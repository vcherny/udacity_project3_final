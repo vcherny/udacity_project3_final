{
  "cells": [
    {
      "cell_type": "markdown",
      "source": [
        "# Automated ML\n",
        "\n",
        "TODO: Import Dependencies. In the cell below, import all the dependencies that you will need to complete the project."
      ],
      "metadata": {}
    },
    {
      "cell_type": "code",
      "source": [
        "from azureml.core.compute import ComputeTarget, AmlCompute\n",
        "from azureml.core import Workspace, Experiment\n",
        "from azureml.widgets import RunDetails\n",
        "import joblib\n",
        "from azureml.core import Environment\n",
        "from azureml.core.model import InferenceConfig,Model\n",
        "from azureml.core.webservice import AciWebservice,Webservice,LocalWebservice\n",
        "from azureml.train.automl import AutoMLConfig\n",
        "from azureml.core.compute_target import ComputeTargetException\n",
        "import requests\n",
        "from sklearn.metrics import mean_squared_error\n",
        "from sklearn.model_selection import train_test_split\n",
        "import math"
      ],
      "outputs": [],
      "execution_count": 1,
      "metadata": {
        "gather": {
          "logged": 1645514317310
        },
        "jupyter": {
          "outputs_hidden": false,
          "source_hidden": false
        },
        "nteract": {
          "transient": {
            "deleting": false
          }
        }
      }
    },
    {
      "cell_type": "markdown",
      "source": [
        "## Dataset\n",
        "\n",
        "### Overview\n",
        "The uploaded dataset is a bond data. The targeted variable is OAS - Option Adjusted Spread. This spread is a quantitative representation of the risk of the bond. It depends on many factors, one of the most important of which is the bonds's rating. The variables representing the rating is Warf (numerical format). Additionally, the dataset contains various indicators such as if the bond belongs to a certain type of industry. The goal is to predict the OAS using the input variables. Since it is a numeric continious variable, a regression will be chosen.\n"
      ],
      "metadata": {}
    },
    {
      "cell_type": "markdown",
      "source": [
        "TODO: Get data. In the cell below, write code to access the data you will be using in this project. Remember that the dataset needs to be external."
      ],
      "metadata": {}
    },
    {
      "cell_type": "code",
      "source": [
        "ws = Workspace.from_config()"
      ],
      "outputs": [],
      "execution_count": 2,
      "metadata": {
        "jupyter": {
          "source_hidden": false,
          "outputs_hidden": false
        },
        "nteract": {
          "transient": {
            "deleting": false
          }
        },
        "gather": {
          "logged": 1645514324284
        }
      }
    },
    {
      "cell_type": "code",
      "source": [
        "df_bonds = ws.datasets['df_bonds'] \n",
        "experiment=Experiment(ws, 'bonds_oas')\n",
        "cluster_name='valeriy-cluster'\n",
        "try:\n",
        "    cluster = ComputeTarget(workspace=ws, name=cluster_name)\n",
        "except ComputeTargetException:\n",
        "    compute_config = AmlCompute.provisioning_configuration(vm_size='STANDARD_DS12_V2',max_nodes=4)\n",
        "    cluster = ComputeTarget.create(ws, cluster_name, compute_config)"
      ],
      "outputs": [],
      "execution_count": 3,
      "metadata": {
        "gather": {
          "logged": 1645514328360
        },
        "jupyter": {
          "outputs_hidden": false,
          "source_hidden": false
        },
        "nteract": {
          "transient": {
            "deleting": false
          }
        }
      }
    },
    {
      "cell_type": "markdown",
      "source": [
        "## AutoML Configuration\n",
        "\n",
        "TODO: Explain why you chose the automl settings and cofiguration you used below."
      ],
      "metadata": {}
    },
    {
      "cell_type": "code",
      "source": [
        "# TODO: Put your automl settings here\n",
        "automl_settings = {\n",
        "\"experiment_timeout_minutes\": 15,\n",
        "\"max_concurrent_iterations\":20,\n",
        "'n_cross_validations':2,\n",
        "\"primary_metric\" : 'r2_score'\n",
        "}\n",
        "project_folder = './bonds-project'\n",
        "automl_config = AutoMLConfig(compute_target=cluster,\n",
        "                             task = \"regression\",\n",
        "                             training_data=df_bonds,\n",
        "                             label_column_name=\"OAS\",   \n",
        "                             path = project_folder,\n",
        "                             debug_log = \"automl_errors.log\",                            \n",
        "                             **automl_settings\n",
        "                            )"
      ],
      "outputs": [],
      "execution_count": 7,
      "metadata": {
        "gather": {
          "logged": 1645514367207
        },
        "jupyter": {
          "outputs_hidden": false,
          "source_hidden": false
        },
        "nteract": {
          "transient": {
            "deleting": false
          }
        }
      }
    },
    {
      "cell_type": "code",
      "source": [
        "# TODO: Submit your experiment\n",
        "remote_run = experiment.submit(automl_config)\n",
        "remote_run.wait_for_completion()"
      ],
      "outputs": [
        {
          "output_type": "stream",
          "name": "stdout",
          "text": "Submitting remote run.\n"
        },
        {
          "output_type": "display_data",
          "data": {
            "text/plain": "<IPython.core.display.HTML object>",
            "text/html": "<table style=\"width:100%\"><tr><th>Experiment</th><th>Id</th><th>Type</th><th>Status</th><th>Details Page</th><th>Docs Page</th></tr><tr><td>bonds_oas</td><td>AutoML_0a0716a7-ef04-4b1c-bd8f-66b76a8bcec5</td><td>automl</td><td>NotStarted</td><td><a href=\"https://ml.azure.com/runs/AutoML_0a0716a7-ef04-4b1c-bd8f-66b76a8bcec5?wsid=/subscriptions/3d1a56d2-7c81-4118-9790-f85d1acf0c77/resourcegroups/aml-quickstarts-187275/workspaces/quick-starts-ws-187275&amp;tid=660b3398-b80e-49d2-bc5b-ac1dc93b5254\" target=\"_blank\" rel=\"noopener\">Link to Azure Machine Learning studio</a></td><td><a href=\"https://docs.microsoft.com/en-us/python/api/overview/azure/ml/intro?view=azure-ml-py\" target=\"_blank\" rel=\"noopener\">Link to Documentation</a></td></tr></table>"
          },
          "metadata": {}
        },
        {
          "output_type": "execute_result",
          "execution_count": 8,
          "data": {
            "text/plain": "{'runId': 'AutoML_0a0716a7-ef04-4b1c-bd8f-66b76a8bcec5',\n 'target': 'valeriy-cluster',\n 'status': 'Completed',\n 'startTimeUtc': '2022-02-22T07:19:54.670339Z',\n 'endTimeUtc': '2022-02-22T07:44:55.979469Z',\n 'services': {},\n 'warnings': [{'source': 'JasmineService',\n   'message': 'Experiment timeout reached, hence experiment stopped. Current experiment timeout: 0 hour(s) 15 minute(s)'}],\n 'properties': {'num_iterations': '1000',\n  'training_type': 'TrainFull',\n  'acquisition_function': 'EI',\n  'primary_metric': 'r2_score',\n  'train_split': '0',\n  'acquisition_parameter': '0',\n  'num_cross_validation': '2',\n  'target': 'valeriy-cluster',\n  'AMLSettingsJsonString': '{\"path\":null,\"name\":\"bonds_oas\",\"subscription_id\":\"3d1a56d2-7c81-4118-9790-f85d1acf0c77\",\"resource_group\":\"aml-quickstarts-187275\",\"workspace_name\":\"quick-starts-ws-187275\",\"region\":\"westeurope\",\"compute_target\":\"valeriy-cluster\",\"spark_service\":null,\"azure_service\":\"remote\",\"many_models\":false,\"pipeline_fetch_max_batch_size\":1,\"enable_batch_run\":true,\"enable_run_restructure\":false,\"start_auxiliary_runs_before_parent_complete\":false,\"enable_code_generation\":false,\"iterations\":1000,\"primary_metric\":\"r2_score\",\"task_type\":\"regression\",\"positive_label\":null,\"data_script\":null,\"test_size\":0.0,\"test_include_predictions_only\":false,\"validation_size\":0.0,\"n_cross_validations\":2,\"y_min\":null,\"y_max\":null,\"num_classes\":null,\"featurization\":\"auto\",\"_ignore_package_version_incompatibilities\":false,\"is_timeseries\":false,\"max_cores_per_iteration\":1,\"max_concurrent_iterations\":20,\"iteration_timeout_minutes\":null,\"mem_in_mb\":null,\"enforce_time_on_windows\":false,\"experiment_timeout_minutes\":15,\"experiment_exit_score\":null,\"whitelist_models\":null,\"blacklist_algos\":[\"TensorFlowDNN\",\"TensorFlowLinearRegressor\"],\"supported_models\":[\"DecisionTree\",\"ExtremeRandomTrees\",\"FastLinearRegressor\",\"OnlineGradientDescentRegressor\",\"KNN\",\"XGBoostRegressor\",\"TensorFlowLinearRegressor\",\"TabnetRegressor\",\"RandomForest\",\"LightGBM\",\"TensorFlowDNN\",\"LassoLars\",\"ElasticNet\",\"SGD\",\"GradientBoosting\"],\"private_models\":[],\"auto_blacklist\":true,\"blacklist_samples_reached\":false,\"exclude_nan_labels\":true,\"verbosity\":20,\"_debug_log\":\"azureml_automl.log\",\"show_warnings\":false,\"model_explainability\":true,\"service_url\":null,\"sdk_url\":null,\"sdk_packages\":null,\"enable_onnx_compatible_models\":false,\"enable_split_onnx_featurizer_estimator_models\":false,\"vm_type\":\"STANDARD_DS12_V2\",\"telemetry_verbosity\":20,\"send_telemetry\":true,\"enable_dnn\":false,\"scenario\":\"SDK-1.13.0\",\"environment_label\":null,\"save_mlflow\":false,\"enable_categorical_indicators\":false,\"force_text_dnn\":false,\"enable_feature_sweeping\":true,\"enable_early_stopping\":true,\"early_stopping_n_iters\":10,\"arguments\":null,\"dataset_id\":null,\"hyperdrive_config\":null,\"validation_dataset_id\":null,\"run_source\":null,\"metrics\":null,\"enable_metric_confidence\":false,\"enable_ensembling\":true,\"enable_stack_ensembling\":true,\"ensemble_iterations\":15,\"enable_tf\":false,\"enable_subsampling\":null,\"subsample_seed\":null,\"enable_nimbusml\":false,\"enable_streaming\":false,\"force_streaming\":false,\"track_child_runs\":true,\"allowed_private_models\":[],\"label_column_name\":\"OAS\",\"weight_column_name\":null,\"cv_split_column_names\":null,\"enable_local_managed\":false,\"_local_managed_run_id\":null,\"cost_mode\":1,\"lag_length\":0,\"metric_operation\":\"maximize\",\"preprocess\":true}',\n  'DataPrepJsonString': '{\\\\\"training_data\\\\\": {\\\\\"datasetId\\\\\": \\\\\"16a8e3d4-152c-43de-a4f4-07344a37137e\\\\\"}, \\\\\"datasets\\\\\": 0}',\n  'EnableSubsampling': None,\n  'runTemplate': 'AutoML',\n  'azureml.runsource': 'automl',\n  'display_task_type': 'regression',\n  'dependencies_versions': '{\"azureml-widgets\": \"1.38.0\", \"azureml-train\": \"1.38.0\", \"azureml-train-restclients-hyperdrive\": \"1.38.0\", \"azureml-train-core\": \"1.38.0\", \"azureml-train-automl\": \"1.38.0\", \"azureml-train-automl-runtime\": \"1.38.0\", \"azureml-train-automl-client\": \"1.38.0\", \"azureml-tensorboard\": \"1.38.0\", \"azureml-telemetry\": \"1.38.0\", \"azureml-sdk\": \"1.38.0\", \"azureml-responsibleai\": \"1.38.0\", \"azureml-pipeline\": \"1.38.0\", \"azureml-pipeline-steps\": \"1.38.0\", \"azureml-pipeline-core\": \"1.38.0\", \"azureml-opendatasets\": \"1.38.0\", \"azureml-mlflow\": \"1.38.0\", \"azureml-interpret\": \"1.38.0\", \"azureml-inference-server-http\": \"0.4.2\", \"azureml-explain-model\": \"1.38.0\", \"azureml-defaults\": \"1.38.0\", \"azureml-dataset-runtime\": \"1.38.0\", \"azureml-dataprep\": \"2.26.0\", \"azureml-dataprep-rslex\": \"2.2.0\", \"azureml-dataprep-native\": \"38.0.0\", \"azureml-datadrift\": \"1.38.0\", \"azureml-core\": \"1.38.0\", \"azureml-contrib-services\": \"1.38.0\", \"azureml-contrib-server\": \"1.38.0\", \"azureml-contrib-reinforcementlearning\": \"1.38.0\", \"azureml-contrib-pipeline-steps\": \"1.38.0\", \"azureml-contrib-notebook\": \"1.38.0\", \"azureml-contrib-fairness\": \"1.38.0\", \"azureml-contrib-dataset\": \"1.38.0\", \"azureml-contrib-automl-pipeline-steps\": \"1.38.0\", \"azureml-cli-common\": \"1.38.0\", \"azureml-automl-runtime\": \"1.38.0\", \"azureml-automl-dnn-nlp\": \"1.38.0\", \"azureml-automl-core\": \"1.38.0\", \"azureml-accel-models\": \"1.38.0\"}',\n  '_aml_system_scenario_identification': 'Remote.Parent',\n  'ClientType': 'SDK',\n  'environment_cpu_name': 'AzureML-AutoML',\n  'environment_cpu_label': 'py36',\n  'environment_gpu_name': 'AzureML-AutoML-GPU',\n  'environment_gpu_label': 'py36',\n  'root_attribution': 'automl',\n  'attribution': 'AutoML',\n  'Orchestrator': 'AutoML',\n  'CancelUri': 'https://westeurope.api.azureml.ms/jasmine/v1.0/subscriptions/3d1a56d2-7c81-4118-9790-f85d1acf0c77/resourceGroups/aml-quickstarts-187275/providers/Microsoft.MachineLearningServices/workspaces/quick-starts-ws-187275/experimentids/22ab9de1-393c-4b4f-aa63-36805f78deb7/cancel/AutoML_0a0716a7-ef04-4b1c-bd8f-66b76a8bcec5',\n  'ClientSdkVersion': '1.38.0',\n  'snapshotId': '00000000-0000-0000-0000-000000000000',\n  'SetupRunId': 'AutoML_0a0716a7-ef04-4b1c-bd8f-66b76a8bcec5_setup',\n  'SetupRunContainerId': 'dcid.AutoML_0a0716a7-ef04-4b1c-bd8f-66b76a8bcec5_setup',\n  'FeaturizationRunJsonPath': 'featurizer_container.json',\n  'FeaturizationRunId': 'AutoML_0a0716a7-ef04-4b1c-bd8f-66b76a8bcec5_featurize',\n  'ProblemInfoJsonString': '{\"dataset_num_categorical\": 0, \"is_sparse\": true, \"subsampling\": false, \"has_extra_col\": true, \"dataset_classes\": 13554, \"dataset_features\": 49, \"dataset_samples\": 14384, \"single_frequency_class_detected\": false}',\n  'ModelExplainRunId': 'AutoML_0a0716a7-ef04-4b1c-bd8f-66b76a8bcec5_ModelExplain'},\n 'inputDatasets': [{'dataset': {'id': '16a8e3d4-152c-43de-a4f4-07344a37137e'}, 'consumptionDetails': {'type': 'RunInput', 'inputName': 'training_data', 'mechanism': 'Direct'}}],\n 'outputDatasets': [],\n 'logFiles': {},\n 'submittedBy': 'ODL_User 187275'}"
          },
          "metadata": {}
        }
      ],
      "execution_count": 8,
      "metadata": {
        "gather": {
          "logged": 1645515901866
        },
        "jupyter": {
          "outputs_hidden": false,
          "source_hidden": false
        },
        "nteract": {
          "transient": {
            "deleting": false
          }
        }
      }
    },
    {
      "cell_type": "markdown",
      "source": [
        "## Run Details\n",
        "\n",
        "OPTIONAL: Write about the different models trained and their performance. Why do you think some models did better than others?\n",
        "\n",
        "TODO: In the cell below, use the `RunDetails` widget to show the different experiments."
      ],
      "metadata": {}
    },
    {
      "cell_type": "code",
      "source": [
        "RunDetails(remote_run).show()"
      ],
      "outputs": [
        {
          "output_type": "display_data",
          "data": {
            "text/plain": "_AutoMLWidget(widget_settings={'childWidgetDisplay': 'popup', 'send_telemetry': False, 'log_level': 'INFO', 's…",
            "application/vnd.jupyter.widget-view+json": {
              "version_major": 2,
              "version_minor": 0,
              "model_id": "f1340271878044728778b99c4619894c"
            }
          },
          "metadata": {}
        },
        {
          "output_type": "display_data",
          "data": {
            "application/aml.mini.widget.v1": "{\"status\": \"Completed\", \"workbench_run_details_uri\": \"https://ml.azure.com/runs/AutoML_0a0716a7-ef04-4b1c-bd8f-66b76a8bcec5?wsid=/subscriptions/3d1a56d2-7c81-4118-9790-f85d1acf0c77/resourcegroups/aml-quickstarts-187275/workspaces/quick-starts-ws-187275&tid=660b3398-b80e-49d2-bc5b-ac1dc93b5254\", \"run_id\": \"AutoML_0a0716a7-ef04-4b1c-bd8f-66b76a8bcec5\", \"run_properties\": {\"run_id\": \"AutoML_0a0716a7-ef04-4b1c-bd8f-66b76a8bcec5\", \"created_utc\": \"2022-02-22T07:19:38.517202Z\", \"properties\": {\"num_iterations\": \"1000\", \"training_type\": \"TrainFull\", \"acquisition_function\": \"EI\", \"primary_metric\": \"r2_score\", \"train_split\": \"0\", \"acquisition_parameter\": \"0\", \"num_cross_validation\": \"2\", \"target\": \"valeriy-cluster\", \"AMLSettingsJsonString\": \"{\\\"path\\\":null,\\\"name\\\":\\\"bonds_oas\\\",\\\"subscription_id\\\":\\\"3d1a56d2-7c81-4118-9790-f85d1acf0c77\\\",\\\"resource_group\\\":\\\"aml-quickstarts-187275\\\",\\\"workspace_name\\\":\\\"quick-starts-ws-187275\\\",\\\"region\\\":\\\"westeurope\\\",\\\"compute_target\\\":\\\"valeriy-cluster\\\",\\\"spark_service\\\":null,\\\"azure_service\\\":\\\"remote\\\",\\\"many_models\\\":false,\\\"pipeline_fetch_max_batch_size\\\":1,\\\"enable_batch_run\\\":true,\\\"enable_run_restructure\\\":false,\\\"start_auxiliary_runs_before_parent_complete\\\":false,\\\"enable_code_generation\\\":false,\\\"iterations\\\":1000,\\\"primary_metric\\\":\\\"r2_score\\\",\\\"task_type\\\":\\\"regression\\\",\\\"positive_label\\\":null,\\\"data_script\\\":null,\\\"test_size\\\":0.0,\\\"test_include_predictions_only\\\":false,\\\"validation_size\\\":0.0,\\\"n_cross_validations\\\":2,\\\"y_min\\\":null,\\\"y_max\\\":null,\\\"num_classes\\\":null,\\\"featurization\\\":\\\"auto\\\",\\\"_ignore_package_version_incompatibilities\\\":false,\\\"is_timeseries\\\":false,\\\"max_cores_per_iteration\\\":1,\\\"max_concurrent_iterations\\\":20,\\\"iteration_timeout_minutes\\\":null,\\\"mem_in_mb\\\":null,\\\"enforce_time_on_windows\\\":false,\\\"experiment_timeout_minutes\\\":15,\\\"experiment_exit_score\\\":null,\\\"whitelist_models\\\":null,\\\"blacklist_algos\\\":[\\\"TensorFlowDNN\\\",\\\"TensorFlowLinearRegressor\\\"],\\\"supported_models\\\":[\\\"DecisionTree\\\",\\\"ExtremeRandomTrees\\\",\\\"FastLinearRegressor\\\",\\\"OnlineGradientDescentRegressor\\\",\\\"KNN\\\",\\\"XGBoostRegressor\\\",\\\"TensorFlowLinearRegressor\\\",\\\"TabnetRegressor\\\",\\\"RandomForest\\\",\\\"LightGBM\\\",\\\"TensorFlowDNN\\\",\\\"LassoLars\\\",\\\"ElasticNet\\\",\\\"SGD\\\",\\\"GradientBoosting\\\"],\\\"private_models\\\":[],\\\"auto_blacklist\\\":true,\\\"blacklist_samples_reached\\\":false,\\\"exclude_nan_labels\\\":true,\\\"verbosity\\\":20,\\\"_debug_log\\\":\\\"azureml_automl.log\\\",\\\"show_warnings\\\":false,\\\"model_explainability\\\":true,\\\"service_url\\\":null,\\\"sdk_url\\\":null,\\\"sdk_packages\\\":null,\\\"enable_onnx_compatible_models\\\":false,\\\"enable_split_onnx_featurizer_estimator_models\\\":false,\\\"vm_type\\\":\\\"STANDARD_DS12_V2\\\",\\\"telemetry_verbosity\\\":20,\\\"send_telemetry\\\":true,\\\"enable_dnn\\\":false,\\\"scenario\\\":\\\"SDK-1.13.0\\\",\\\"environment_label\\\":null,\\\"save_mlflow\\\":false,\\\"enable_categorical_indicators\\\":false,\\\"force_text_dnn\\\":false,\\\"enable_feature_sweeping\\\":true,\\\"enable_early_stopping\\\":true,\\\"early_stopping_n_iters\\\":10,\\\"arguments\\\":null,\\\"dataset_id\\\":null,\\\"hyperdrive_config\\\":null,\\\"validation_dataset_id\\\":null,\\\"run_source\\\":null,\\\"metrics\\\":null,\\\"enable_metric_confidence\\\":false,\\\"enable_ensembling\\\":true,\\\"enable_stack_ensembling\\\":true,\\\"ensemble_iterations\\\":15,\\\"enable_tf\\\":false,\\\"enable_subsampling\\\":null,\\\"subsample_seed\\\":null,\\\"enable_nimbusml\\\":false,\\\"enable_streaming\\\":false,\\\"force_streaming\\\":false,\\\"track_child_runs\\\":true,\\\"allowed_private_models\\\":[],\\\"label_column_name\\\":\\\"OAS\\\",\\\"weight_column_name\\\":null,\\\"cv_split_column_names\\\":null,\\\"enable_local_managed\\\":false,\\\"_local_managed_run_id\\\":null,\\\"cost_mode\\\":1,\\\"lag_length\\\":0,\\\"metric_operation\\\":\\\"maximize\\\",\\\"preprocess\\\":true}\", \"DataPrepJsonString\": \"{\\\\\\\"training_data\\\\\\\": {\\\\\\\"datasetId\\\\\\\": \\\\\\\"16a8e3d4-152c-43de-a4f4-07344a37137e\\\\\\\"}, \\\\\\\"datasets\\\\\\\": 0}\", \"EnableSubsampling\": null, \"runTemplate\": \"AutoML\", \"azureml.runsource\": \"automl\", \"display_task_type\": \"regression\", \"dependencies_versions\": \"{\\\"azureml-widgets\\\": \\\"1.38.0\\\", \\\"azureml-train\\\": \\\"1.38.0\\\", \\\"azureml-train-restclients-hyperdrive\\\": \\\"1.38.0\\\", \\\"azureml-train-core\\\": \\\"1.38.0\\\", \\\"azureml-train-automl\\\": \\\"1.38.0\\\", \\\"azureml-train-automl-runtime\\\": \\\"1.38.0\\\", \\\"azureml-train-automl-client\\\": \\\"1.38.0\\\", \\\"azureml-tensorboard\\\": \\\"1.38.0\\\", \\\"azureml-telemetry\\\": \\\"1.38.0\\\", \\\"azureml-sdk\\\": \\\"1.38.0\\\", \\\"azureml-responsibleai\\\": \\\"1.38.0\\\", \\\"azureml-pipeline\\\": \\\"1.38.0\\\", \\\"azureml-pipeline-steps\\\": \\\"1.38.0\\\", \\\"azureml-pipeline-core\\\": \\\"1.38.0\\\", \\\"azureml-opendatasets\\\": \\\"1.38.0\\\", \\\"azureml-mlflow\\\": \\\"1.38.0\\\", \\\"azureml-interpret\\\": \\\"1.38.0\\\", \\\"azureml-inference-server-http\\\": \\\"0.4.2\\\", \\\"azureml-explain-model\\\": \\\"1.38.0\\\", \\\"azureml-defaults\\\": \\\"1.38.0\\\", \\\"azureml-dataset-runtime\\\": \\\"1.38.0\\\", \\\"azureml-dataprep\\\": \\\"2.26.0\\\", \\\"azureml-dataprep-rslex\\\": \\\"2.2.0\\\", \\\"azureml-dataprep-native\\\": \\\"38.0.0\\\", \\\"azureml-datadrift\\\": \\\"1.38.0\\\", \\\"azureml-core\\\": \\\"1.38.0\\\", \\\"azureml-contrib-services\\\": \\\"1.38.0\\\", \\\"azureml-contrib-server\\\": \\\"1.38.0\\\", \\\"azureml-contrib-reinforcementlearning\\\": \\\"1.38.0\\\", \\\"azureml-contrib-pipeline-steps\\\": \\\"1.38.0\\\", \\\"azureml-contrib-notebook\\\": \\\"1.38.0\\\", \\\"azureml-contrib-fairness\\\": \\\"1.38.0\\\", \\\"azureml-contrib-dataset\\\": \\\"1.38.0\\\", \\\"azureml-contrib-automl-pipeline-steps\\\": \\\"1.38.0\\\", \\\"azureml-cli-common\\\": \\\"1.38.0\\\", \\\"azureml-automl-runtime\\\": \\\"1.38.0\\\", \\\"azureml-automl-dnn-nlp\\\": \\\"1.38.0\\\", \\\"azureml-automl-core\\\": \\\"1.38.0\\\", \\\"azureml-accel-models\\\": \\\"1.38.0\\\"}\", \"_aml_system_scenario_identification\": \"Remote.Parent\", \"ClientType\": \"SDK\", \"environment_cpu_name\": \"AzureML-AutoML\", \"environment_cpu_label\": \"py36\", \"environment_gpu_name\": \"AzureML-AutoML-GPU\", \"environment_gpu_label\": \"py36\", \"root_attribution\": \"automl\", \"attribution\": \"AutoML\", \"Orchestrator\": \"AutoML\", \"CancelUri\": \"https://westeurope.api.azureml.ms/jasmine/v1.0/subscriptions/3d1a56d2-7c81-4118-9790-f85d1acf0c77/resourceGroups/aml-quickstarts-187275/providers/Microsoft.MachineLearningServices/workspaces/quick-starts-ws-187275/experimentids/22ab9de1-393c-4b4f-aa63-36805f78deb7/cancel/AutoML_0a0716a7-ef04-4b1c-bd8f-66b76a8bcec5\", \"ClientSdkVersion\": \"1.38.0\", \"snapshotId\": \"00000000-0000-0000-0000-000000000000\", \"SetupRunId\": \"AutoML_0a0716a7-ef04-4b1c-bd8f-66b76a8bcec5_setup\", \"SetupRunContainerId\": \"dcid.AutoML_0a0716a7-ef04-4b1c-bd8f-66b76a8bcec5_setup\", \"FeaturizationRunJsonPath\": \"featurizer_container.json\", \"FeaturizationRunId\": \"AutoML_0a0716a7-ef04-4b1c-bd8f-66b76a8bcec5_featurize\", \"ProblemInfoJsonString\": \"{\\\"dataset_num_categorical\\\": 0, \\\"is_sparse\\\": true, \\\"subsampling\\\": false, \\\"has_extra_col\\\": true, \\\"dataset_classes\\\": 13554, \\\"dataset_features\\\": 49, \\\"dataset_samples\\\": 14384, \\\"single_frequency_class_detected\\\": false}\", \"ModelExplainRunId\": \"AutoML_0a0716a7-ef04-4b1c-bd8f-66b76a8bcec5_ModelExplain\"}, \"tags\": {\"model_explain_run\": \"best_run\", \"_aml_system_azureml.automlComponent\": \"AutoML\", \"pipeline_id\": \"\", \"score\": \"\", \"predicted_cost\": \"\", \"fit_time\": \"\", \"training_percent\": \"\", \"iteration\": \"\", \"run_preprocessor\": \"\", \"run_algorithm\": \"\", \"dynamic_whitelisting_iterations\": \"<25>;<30>;<35>;<39>;<45>;\", \"_aml_system_azureml.automl_early_exit_message\": \"Experiment timeout reached, hence experiment stopped. Current experiment timeout: 0 hour(s) 15 minute(s)\", \"automl_best_child_run_id\": \"AutoML_0a0716a7-ef04-4b1c-bd8f-66b76a8bcec5_50\", \"model_explain_best_run_child_id\": \"AutoML_0a0716a7-ef04-4b1c-bd8f-66b76a8bcec5_50\"}, \"end_time_utc\": \"2022-02-22T07:44:55.979469Z\", \"status\": \"Completed\", \"log_files\": {}, \"log_groups\": [], \"run_duration\": \"0:25:17\", \"run_number\": \"1645514378\", \"run_queued_details\": {\"status\": \"Completed\", \"details\": null}}, \"child_runs\": [{\"run_id\": \"AutoML_0a0716a7-ef04-4b1c-bd8f-66b76a8bcec5_setup\", \"run_number\": 1645514392, \"metric\": null, \"status\": \"Completed\", \"run_type\": \"azureml.scriptrun\", \"training_percent\": null, \"start_time\": \"2022-02-22T07:26:01.048653Z\", \"end_time\": \"2022-02-22T07:26:48.852075Z\", \"created_time\": \"2022-02-22T07:19:52.21936Z\", \"created_time_dt\": \"2022-02-22T07:19:52.21936Z\", \"duration\": \"0:06:56\", \"iteration\": null, \"goal\": null, \"run_name\": \"Completed\", \"run_properties\": null}, {\"run_id\": \"AutoML_0a0716a7-ef04-4b1c-bd8f-66b76a8bcec5_featurize\", \"run_number\": 1645514809, \"metric\": null, \"status\": \"Completed\", \"run_type\": \"automl.featurization\", \"training_percent\": null, \"start_time\": \"2022-02-22T07:26:49.667543Z\", \"end_time\": \"2022-02-22T07:27:28.354457Z\", \"created_time\": \"2022-02-22T07:26:49.333023Z\", \"created_time_dt\": \"2022-02-22T07:26:49.333023Z\", \"duration\": \"0:00:39\", \"iteration\": null, \"goal\": null, \"run_name\": \"Completed\", \"run_properties\": null}, {\"run_id\": \"AutoML_0a0716a7-ef04-4b1c-bd8f-66b76a8bcec5_0\", \"run_number\": 1645514850, \"metric\": null, \"status\": \"Completed\", \"run_type\": null, \"training_percent\": \"100\", \"start_time\": \"2022-02-22T07:28:13.358972Z\", \"end_time\": \"2022-02-22T07:28:21.742428Z\", \"created_time\": \"2022-02-22T07:27:30.64514Z\", \"created_time_dt\": \"2022-02-22T07:27:30.64514Z\", \"duration\": \"0:00:51\", \"iteration\": \"0\", \"goal\": \"r2_score_max\", \"run_name\": \"MaxAbsScaler, LightGBM\", \"run_properties\": \"copy=True\", \"primary_metric\": 0.20116539, \"best_metric\": 0.20116539}, {\"run_id\": \"AutoML_0a0716a7-ef04-4b1c-bd8f-66b76a8bcec5_1\", \"run_number\": 1645514851, \"metric\": null, \"status\": \"Completed\", \"run_type\": null, \"training_percent\": \"100\", \"start_time\": \"2022-02-22T07:27:46.238962Z\", \"end_time\": \"2022-02-22T07:27:55.076072Z\", \"created_time\": \"2022-02-22T07:27:31.312332Z\", \"created_time_dt\": \"2022-02-22T07:27:31.312332Z\", \"duration\": \"0:00:23\", \"iteration\": \"1\", \"goal\": \"r2_score_max\", \"run_name\": \"MaxAbsScaler, XGBoostRegressor\", \"run_properties\": \"copy=True\", \"primary_metric\": 0.20303322, \"best_metric\": 0.20303322}, {\"run_id\": \"AutoML_0a0716a7-ef04-4b1c-bd8f-66b76a8bcec5_worker_2\", \"run_number\": 1645514852, \"metric\": null, \"status\": \"Completed\", \"run_type\": \"azureml.scriptrun\", \"training_percent\": null, \"start_time\": \"2022-02-22T07:28:51.046952Z\", \"end_time\": \"2022-02-22T07:28:54.680568Z\", \"created_time\": \"2022-02-22T07:27:32.266995Z\", \"created_time_dt\": \"2022-02-22T07:27:32.266995Z\", \"duration\": \"0:01:22\", \"iteration\": null, \"goal\": null, \"run_name\": \"Completed\", \"run_properties\": null}, {\"run_id\": \"AutoML_0a0716a7-ef04-4b1c-bd8f-66b76a8bcec5_4\", \"run_number\": 1645514853, \"metric\": null, \"status\": \"Completed\", \"run_type\": null, \"training_percent\": \"100\", \"start_time\": \"2022-02-22T07:29:48.160233Z\", \"end_time\": \"2022-02-22T07:29:56.347993Z\", \"created_time\": \"2022-02-22T07:27:33.1156Z\", \"created_time_dt\": \"2022-02-22T07:27:33.1156Z\", \"duration\": \"0:02:23\", \"iteration\": \"4\", \"goal\": \"r2_score_max\", \"run_name\": \"MaxAbsScaler, LightGBM\", \"run_properties\": \"copy=True\", \"primary_metric\": 0.20061407, \"best_metric\": 0.20303322}, {\"run_id\": \"AutoML_0a0716a7-ef04-4b1c-bd8f-66b76a8bcec5_worker_5\", \"run_number\": 1645514854, \"metric\": null, \"status\": \"Completed\", \"run_type\": \"azureml.scriptrun\", \"training_percent\": null, \"start_time\": \"2022-02-22T07:30:26.264413Z\", \"end_time\": \"2022-02-22T07:30:29.904987Z\", \"created_time\": \"2022-02-22T07:27:34.113095Z\", \"created_time_dt\": \"2022-02-22T07:27:34.113095Z\", \"duration\": \"0:02:55\", \"iteration\": null, \"goal\": null, \"run_name\": \"Completed\", \"run_properties\": null}, {\"run_id\": \"AutoML_0a0716a7-ef04-4b1c-bd8f-66b76a8bcec5_8\", \"run_number\": 1645514855, \"metric\": null, \"status\": \"Completed\", \"run_type\": null, \"training_percent\": \"100\", \"start_time\": \"2022-02-22T07:31:09.651977Z\", \"end_time\": \"2022-02-22T07:31:23.113558Z\", \"created_time\": \"2022-02-22T07:27:35.318764Z\", \"created_time_dt\": \"2022-02-22T07:27:35.318764Z\", \"duration\": \"0:03:47\", \"iteration\": \"8\", \"goal\": \"r2_score_max\", \"run_name\": \"StandardScalerWrapper, ExtremeRandomTrees\", \"run_properties\": \"\\n    copy=True,\\n    with_mean=False,\\n    with_std=False\\n\", \"primary_metric\": 0.17533916, \"best_metric\": 0.20303322}, {\"run_id\": \"AutoML_0a0716a7-ef04-4b1c-bd8f-66b76a8bcec5_worker_9\", \"run_number\": 1645514856, \"metric\": null, \"status\": \"Completed\", \"run_type\": \"azureml.scriptrun\", \"training_percent\": null, \"start_time\": \"2022-02-22T07:32:26.343911Z\", \"end_time\": \"2022-02-22T07:32:30.194999Z\", \"created_time\": \"2022-02-22T07:27:36.167454Z\", \"created_time_dt\": \"2022-02-22T07:27:36.167454Z\", \"duration\": \"0:04:54\", \"iteration\": null, \"goal\": null, \"run_name\": \"Completed\", \"run_properties\": null}, {\"run_id\": \"AutoML_0a0716a7-ef04-4b1c-bd8f-66b76a8bcec5_worker_11\", \"run_number\": 1645514857, \"metric\": null, \"status\": \"Completed\", \"run_type\": \"azureml.scriptrun\", \"training_percent\": null, \"start_time\": \"2022-02-22T07:33:23.56781Z\", \"end_time\": \"2022-02-22T07:33:27.224628Z\", \"created_time\": \"2022-02-22T07:27:37.256845Z\", \"created_time_dt\": \"2022-02-22T07:27:37.256845Z\", \"duration\": \"0:05:49\", \"iteration\": null, \"goal\": null, \"run_name\": \"Completed\", \"run_properties\": null}, {\"run_id\": \"AutoML_0a0716a7-ef04-4b1c-bd8f-66b76a8bcec5_worker_13\", \"run_number\": 1645514858, \"metric\": null, \"status\": \"Completed\", \"run_type\": \"azureml.scriptrun\", \"training_percent\": null, \"start_time\": \"2022-02-22T07:35:02.672991Z\", \"end_time\": \"2022-02-22T07:35:06.306427Z\", \"created_time\": \"2022-02-22T07:27:38.261753Z\", \"created_time_dt\": \"2022-02-22T07:27:38.261753Z\", \"duration\": \"0:07:28\", \"iteration\": null, \"goal\": null, \"run_name\": \"Completed\", \"run_properties\": null}, {\"run_id\": \"AutoML_0a0716a7-ef04-4b1c-bd8f-66b76a8bcec5_worker_15\", \"run_number\": 1645514859, \"metric\": null, \"status\": \"Completed\", \"run_type\": \"azureml.scriptrun\", \"training_percent\": null, \"start_time\": \"2022-02-22T07:35:58.54911Z\", \"end_time\": \"2022-02-22T07:36:02.261625Z\", \"created_time\": \"2022-02-22T07:27:39.284659Z\", \"created_time_dt\": \"2022-02-22T07:27:39.284659Z\", \"duration\": \"0:08:22\", \"iteration\": null, \"goal\": null, \"run_name\": \"Completed\", \"run_properties\": null}, {\"run_id\": \"AutoML_0a0716a7-ef04-4b1c-bd8f-66b76a8bcec5_17\", \"run_number\": 1645514860, \"metric\": null, \"status\": \"Completed\", \"run_type\": null, \"training_percent\": \"100\", \"start_time\": \"2022-02-22T07:36:43.361381Z\", \"end_time\": \"2022-02-22T07:36:52.239757Z\", \"created_time\": \"2022-02-22T07:27:40.928393Z\", \"created_time_dt\": \"2022-02-22T07:27:40.928393Z\", \"duration\": \"0:09:11\", \"iteration\": \"17\", \"goal\": \"r2_score_max\", \"run_name\": \"StandardScalerWrapper, ElasticNet\", \"run_properties\": \"\\n    copy=True,\\n    with_mean=False,\\n    with_std=True\\n\", \"primary_metric\": 0.19157798, \"best_metric\": 0.20303322}, {\"run_id\": \"AutoML_0a0716a7-ef04-4b1c-bd8f-66b76a8bcec5_worker_17\", \"run_number\": 1645514861, \"metric\": null, \"status\": \"Completed\", \"run_type\": \"azureml.scriptrun\", \"training_percent\": null, \"start_time\": \"2022-02-22T07:36:53.326302Z\", \"end_time\": \"2022-02-22T07:36:56.976998Z\", \"created_time\": \"2022-02-22T07:27:41.265925Z\", \"created_time_dt\": \"2022-02-22T07:27:41.265925Z\", \"duration\": \"0:09:15\", \"iteration\": null, \"goal\": null, \"run_name\": \"Completed\", \"run_properties\": null}, {\"run_id\": \"AutoML_0a0716a7-ef04-4b1c-bd8f-66b76a8bcec5_worker_19\", \"run_number\": 1645514862, \"metric\": null, \"status\": \"Completed\", \"run_type\": \"azureml.scriptrun\", \"training_percent\": null, \"start_time\": \"2022-02-22T07:37:19.710708Z\", \"end_time\": \"2022-02-22T07:37:23.355818Z\", \"created_time\": \"2022-02-22T07:27:42.344691Z\", \"created_time_dt\": \"2022-02-22T07:27:42.344691Z\", \"duration\": \"0:09:41\", \"iteration\": null, \"goal\": null, \"run_name\": \"Completed\", \"run_properties\": null}, {\"run_id\": \"AutoML_0a0716a7-ef04-4b1c-bd8f-66b76a8bcec5_20\", \"run_number\": 1645514903, \"metric\": null, \"status\": \"Completed\", \"run_type\": \"azureml.scriptrun\", \"training_percent\": \"100\", \"start_time\": \"2022-02-22T07:38:00.678837Z\", \"end_time\": \"2022-02-22T07:38:04.351042Z\", \"created_time\": \"2022-02-22T07:28:23.855322Z\", \"created_time_dt\": \"2022-02-22T07:28:23.855322Z\", \"duration\": \"0:09:40\", \"iteration\": \"20\", \"goal\": \"r2_score_max\", \"run_name\": \"StandardScalerWrapper, ElasticNet\", \"run_properties\": \"\\n    copy=True,\\n    with_mean=False,\\n    with_std=False\\n\", \"primary_metric\": 0.15688671, \"best_metric\": 0.20303322}, {\"run_id\": \"AutoML_0a0716a7-ef04-4b1c-bd8f-66b76a8bcec5_21\", \"run_number\": 1645514936, \"metric\": null, \"status\": \"Completed\", \"run_type\": \"azureml.scriptrun\", \"training_percent\": \"100\", \"start_time\": \"2022-02-22T07:38:15.542931Z\", \"end_time\": \"2022-02-22T07:38:19.178651Z\", \"created_time\": \"2022-02-22T07:28:56.387914Z\", \"created_time_dt\": \"2022-02-22T07:28:56.387914Z\", \"duration\": \"0:09:22\", \"iteration\": \"21\", \"goal\": \"r2_score_max\", \"run_name\": \"MaxAbsScaler, DecisionTree\", \"run_properties\": \"copy=True\", \"primary_metric\": 0.17947004, \"best_metric\": 0.20303322}, {\"run_id\": \"AutoML_0a0716a7-ef04-4b1c-bd8f-66b76a8bcec5_22\", \"run_number\": 1645514968, \"metric\": null, \"status\": \"Completed\", \"run_type\": \"azureml.scriptrun\", \"training_percent\": \"100\", \"start_time\": \"2022-02-22T07:38:31.914265Z\", \"end_time\": \"2022-02-22T07:38:35.572883Z\", \"created_time\": \"2022-02-22T07:29:28.327415Z\", \"created_time_dt\": \"2022-02-22T07:29:28.327415Z\", \"duration\": \"0:09:07\", \"iteration\": \"22\", \"goal\": \"r2_score_max\", \"run_name\": \"SparseNormalizer, ExtremeRandomTrees\", \"run_properties\": \"copy=True, norm='l1'\", \"primary_metric\": 0.18724948, \"best_metric\": 0.20303322}, {\"run_id\": \"AutoML_0a0716a7-ef04-4b1c-bd8f-66b76a8bcec5_23\", \"run_number\": 1645514986, \"metric\": null, \"status\": \"Completed\", \"run_type\": \"azureml.scriptrun\", \"training_percent\": \"100\", \"start_time\": \"2022-02-22T07:39:21.756881Z\", \"end_time\": \"2022-02-22T07:39:25.449032Z\", \"created_time\": \"2022-02-22T07:29:46.44114Z\", \"created_time_dt\": \"2022-02-22T07:29:46.44114Z\", \"duration\": \"0:09:39\", \"iteration\": \"23\", \"goal\": \"r2_score_max\", \"run_name\": \"StandardScalerWrapper, LightGBM\", \"run_properties\": \"\\n    copy=True,\\n    with_mean=False,\\n    with_std=True\\n\", \"primary_metric\": 0.19187431, \"best_metric\": 0.20303322}, {\"run_id\": \"AutoML_0a0716a7-ef04-4b1c-bd8f-66b76a8bcec5_24\", \"run_number\": 1645515031, \"metric\": null, \"status\": \"Completed\", \"run_type\": \"azureml.scriptrun\", \"training_percent\": \"100\", \"start_time\": \"2022-02-22T07:40:17.656374Z\", \"end_time\": \"2022-02-22T07:40:21.310829Z\", \"created_time\": \"2022-02-22T07:30:31.552605Z\", \"created_time_dt\": \"2022-02-22T07:30:31.552605Z\", \"duration\": \"0:09:49\", \"iteration\": \"24\", \"goal\": \"r2_score_max\", \"run_name\": \"StandardScalerWrapper, ExtremeRandomTrees\", \"run_properties\": \"\\n    copy=True,\\n    with_mean=False,\\n    with_std=False\\n\", \"primary_metric\": 0.19264193, \"best_metric\": 0.20303322}, {\"run_id\": \"AutoML_0a0716a7-ef04-4b1c-bd8f-66b76a8bcec5_25\", \"run_number\": 1645515061, \"metric\": null, \"status\": \"Completed\", \"run_type\": \"azureml.scriptrun\", \"training_percent\": \"100\", \"start_time\": \"2022-02-22T07:40:11.439567Z\", \"end_time\": \"2022-02-22T07:40:15.153067Z\", \"created_time\": \"2022-02-22T07:31:01.41774Z\", \"created_time_dt\": \"2022-02-22T07:31:01.41774Z\", \"duration\": \"0:09:13\", \"iteration\": \"25\", \"goal\": \"r2_score_max\", \"run_name\": \"StandardScalerWrapper, XGBoostRegressor\", \"run_properties\": \"\\n    copy=True,\\n    with_mean=False,\\n    with_std=False\\n\", \"primary_metric\": -0.14409773, \"best_metric\": 0.20303322}, {\"run_id\": \"AutoML_0a0716a7-ef04-4b1c-bd8f-66b76a8bcec5_26\", \"run_number\": 1645515090, \"metric\": null, \"status\": \"Completed\", \"run_type\": \"azureml.scriptrun\", \"training_percent\": \"100\", \"start_time\": \"2022-02-22T07:40:35.173469Z\", \"end_time\": \"2022-02-22T07:40:38.897065Z\", \"created_time\": \"2022-02-22T07:31:29.994549Z\", \"created_time_dt\": \"2022-02-22T07:31:29.994549Z\", \"duration\": \"0:09:08\", \"iteration\": \"26\", \"goal\": \"r2_score_max\", \"run_name\": \"MaxAbsScaler, SGD\", \"run_properties\": \"copy=True\", \"primary_metric\": 0.17068325, \"best_metric\": 0.20303322}, {\"run_id\": \"AutoML_0a0716a7-ef04-4b1c-bd8f-66b76a8bcec5_27\", \"run_number\": 1645515123, \"metric\": null, \"status\": \"Completed\", \"run_type\": \"azureml.scriptrun\", \"training_percent\": \"100\", \"start_time\": \"2022-02-22T07:41:21.707283Z\", \"end_time\": \"2022-02-22T07:41:25.408787Z\", \"created_time\": \"2022-02-22T07:32:03.135129Z\", \"created_time_dt\": \"2022-02-22T07:32:03.135129Z\", \"duration\": \"0:09:22\", \"iteration\": \"27\", \"goal\": \"r2_score_max\", \"run_name\": \"StandardScalerWrapper, LightGBM\", \"run_properties\": \"\\n    copy=True,\\n    with_mean=False,\\n    with_std=True\\n\", \"primary_metric\": 0.19927919, \"best_metric\": 0.20303322}, {\"run_id\": \"AutoML_0a0716a7-ef04-4b1c-bd8f-66b76a8bcec5_28\", \"run_number\": 1645515151, \"metric\": null, \"status\": \"Completed\", \"run_type\": \"azureml.scriptrun\", \"training_percent\": \"100\", \"start_time\": \"2022-02-22T07:42:19.144478Z\", \"end_time\": \"2022-02-22T07:42:22.794791Z\", \"created_time\": \"2022-02-22T07:32:31.783286Z\", \"created_time_dt\": \"2022-02-22T07:32:31.783286Z\", \"duration\": \"0:09:51\", \"iteration\": \"28\", \"goal\": \"r2_score_max\", \"run_name\": \"MaxAbsScaler, ExtremeRandomTrees\", \"run_properties\": \"copy=True\", \"primary_metric\": 0.1544645, \"best_metric\": 0.20303322}, {\"run_id\": \"AutoML_0a0716a7-ef04-4b1c-bd8f-66b76a8bcec5_29\", \"run_number\": 1645515177, \"metric\": null, \"status\": \"Completed\", \"run_type\": \"azureml.scriptrun\", \"training_percent\": \"100\", \"start_time\": \"2022-02-22T07:42:12.441997Z\", \"end_time\": \"2022-02-22T07:42:16.413005Z\", \"created_time\": \"2022-02-22T07:32:57.227123Z\", \"created_time_dt\": \"2022-02-22T07:32:57.227123Z\", \"duration\": \"0:09:19\", \"iteration\": \"29\", \"goal\": \"r2_score_max\", \"run_name\": \"StandardScalerWrapper, LightGBM\", \"run_properties\": \"\\n    copy=True,\\n    with_mean=False,\\n    with_std=True\\n\", \"primary_metric\": 0.19459984, \"best_metric\": 0.20303322}, {\"run_id\": \"AutoML_0a0716a7-ef04-4b1c-bd8f-66b76a8bcec5_30\", \"run_number\": 1645515210, \"metric\": null, \"status\": \"Completed\", \"run_type\": \"azureml.scriptrun\", \"training_percent\": \"100\", \"start_time\": \"2022-02-22T07:42:40.045404Z\", \"end_time\": \"2022-02-22T07:42:43.673388Z\", \"created_time\": \"2022-02-22T07:33:30.48244Z\", \"created_time_dt\": \"2022-02-22T07:33:30.48244Z\", \"duration\": \"0:09:13\", \"iteration\": \"30\", \"goal\": \"r2_score_max\", \"run_name\": \"StandardScalerWrapper, XGBoostRegressor\", \"run_properties\": \"\\n    copy=True,\\n    with_mean=False,\\n    with_std=False\\n\", \"primary_metric\": -0.12586441, \"best_metric\": 0.20303322}, {\"run_id\": \"AutoML_0a0716a7-ef04-4b1c-bd8f-66b76a8bcec5_31\", \"run_number\": 1645515272, \"metric\": null, \"status\": \"Canceled\", \"run_type\": \"azureml.scriptrun\", \"training_percent\": \"100\", \"start_time\": \"2022-02-22T07:42:45.332844Z\", \"end_time\": \"2022-02-22T07:42:45.609724Z\", \"created_time\": \"2022-02-22T07:34:32.22905Z\", \"created_time_dt\": \"2022-02-22T07:34:32.22905Z\", \"duration\": \"0:08:13\", \"iteration\": \"31\", \"goal\": null, \"run_name\": \"Canceled\", \"run_properties\": null}, {\"run_id\": \"AutoML_0a0716a7-ef04-4b1c-bd8f-66b76a8bcec5_32\", \"run_number\": 1645515293, \"metric\": null, \"status\": \"Canceled\", \"run_type\": \"azureml.scriptrun\", \"training_percent\": \"100\", \"start_time\": \"2022-02-22T07:42:45.357794Z\", \"end_time\": \"2022-02-22T07:42:45.600502Z\", \"created_time\": \"2022-02-22T07:34:53.129425Z\", \"created_time_dt\": \"2022-02-22T07:34:53.129425Z\", \"duration\": \"0:07:52\", \"iteration\": \"32\", \"goal\": null, \"run_name\": \"Canceled\", \"run_properties\": null}, {\"run_id\": \"AutoML_0a0716a7-ef04-4b1c-bd8f-66b76a8bcec5_33\", \"run_number\": 1645515335, \"metric\": null, \"status\": \"Canceled\", \"run_type\": \"azureml.scriptrun\", \"training_percent\": \"100\", \"start_time\": \"2022-02-22T07:42:45.145996Z\", \"end_time\": \"2022-02-22T07:42:45.627659Z\", \"created_time\": \"2022-02-22T07:35:35.520928Z\", \"created_time_dt\": \"2022-02-22T07:35:35.520928Z\", \"duration\": \"0:07:10\", \"iteration\": \"33\", \"goal\": null, \"run_name\": \"Canceled\", \"run_properties\": null}, {\"run_id\": \"AutoML_0a0716a7-ef04-4b1c-bd8f-66b76a8bcec5_34\", \"run_number\": 1645515363, \"metric\": null, \"status\": \"Canceled\", \"run_type\": \"azureml.scriptrun\", \"training_percent\": \"100\", \"start_time\": \"2022-02-22T07:42:45.16931Z\", \"end_time\": \"2022-02-22T07:42:45.433962Z\", \"created_time\": \"2022-02-22T07:36:03.033133Z\", \"created_time_dt\": \"2022-02-22T07:36:03.033133Z\", \"duration\": \"0:06:42\", \"iteration\": \"34\", \"goal\": null, \"run_name\": \"Canceled\", \"run_properties\": null}, {\"run_id\": \"AutoML_0a0716a7-ef04-4b1c-bd8f-66b76a8bcec5_35\", \"run_number\": 1645515392, \"metric\": null, \"status\": \"Canceled\", \"run_type\": \"azureml.scriptrun\", \"training_percent\": \"100\", \"start_time\": \"2022-02-22T07:42:45.228786Z\", \"end_time\": \"2022-02-22T07:42:45.494928Z\", \"created_time\": \"2022-02-22T07:36:32.360795Z\", \"created_time_dt\": \"2022-02-22T07:36:32.360795Z\", \"duration\": \"0:06:13\", \"iteration\": \"35\", \"goal\": null, \"run_name\": \"Canceled\", \"run_properties\": null}, {\"run_id\": \"AutoML_0a0716a7-ef04-4b1c-bd8f-66b76a8bcec5_36\", \"run_number\": 1645515417, \"metric\": null, \"status\": \"Canceled\", \"run_type\": \"azureml.scriptrun\", \"training_percent\": \"100\", \"start_time\": \"2022-02-22T07:42:45.280264Z\", \"end_time\": \"2022-02-22T07:42:45.538628Z\", \"created_time\": \"2022-02-22T07:36:57.022738Z\", \"created_time_dt\": \"2022-02-22T07:36:57.022738Z\", \"duration\": \"0:05:48\", \"iteration\": \"36\", \"goal\": null, \"run_name\": \"Canceled\", \"run_properties\": null}, {\"run_id\": \"AutoML_0a0716a7-ef04-4b1c-bd8f-66b76a8bcec5_37\", \"run_number\": 1645515443, \"metric\": null, \"status\": \"Canceled\", \"run_type\": \"azureml.scriptrun\", \"training_percent\": \"100\", \"start_time\": \"2022-02-22T07:42:45.056439Z\", \"end_time\": \"2022-02-22T07:42:45.496863Z\", \"created_time\": \"2022-02-22T07:37:23.103172Z\", \"created_time_dt\": \"2022-02-22T07:37:23.103172Z\", \"duration\": \"0:05:22\", \"iteration\": \"37\", \"goal\": null, \"run_name\": \"Canceled\", \"run_properties\": null}, {\"run_id\": \"AutoML_0a0716a7-ef04-4b1c-bd8f-66b76a8bcec5_38\", \"run_number\": 1645515472, \"metric\": null, \"status\": \"Canceled\", \"run_type\": \"azureml.scriptrun\", \"training_percent\": \"100\", \"start_time\": \"2022-02-22T07:42:45.052503Z\", \"end_time\": \"2022-02-22T07:42:45.408249Z\", \"created_time\": \"2022-02-22T07:37:52.045241Z\", \"created_time_dt\": \"2022-02-22T07:37:52.045241Z\", \"duration\": \"0:04:53\", \"iteration\": \"38\", \"goal\": null, \"run_name\": \"Canceled\", \"run_properties\": null}, {\"run_id\": \"AutoML_0a0716a7-ef04-4b1c-bd8f-66b76a8bcec5_40\", \"run_number\": 1645515490, \"metric\": null, \"status\": \"Canceled\", \"run_type\": \"azureml.scriptrun\", \"training_percent\": \"100\", \"start_time\": \"2022-02-22T07:42:44.954543Z\", \"end_time\": \"2022-02-22T07:42:45.433969Z\", \"created_time\": \"2022-02-22T07:38:10.700602Z\", \"created_time_dt\": \"2022-02-22T07:38:10.700602Z\", \"duration\": \"0:04:34\", \"iteration\": \"40\", \"goal\": null, \"run_name\": \"Canceled\", \"run_properties\": null}, {\"run_id\": \"AutoML_0a0716a7-ef04-4b1c-bd8f-66b76a8bcec5_41\", \"run_number\": 1645515501, \"metric\": null, \"status\": \"Canceled\", \"run_type\": \"azureml.scriptrun\", \"training_percent\": \"100\", \"start_time\": \"2022-02-22T07:42:44.914231Z\", \"end_time\": \"2022-02-22T07:42:45.586991Z\", \"created_time\": \"2022-02-22T07:38:21.408183Z\", \"created_time_dt\": \"2022-02-22T07:38:21.408183Z\", \"duration\": \"0:04:24\", \"iteration\": \"41\", \"goal\": null, \"run_name\": \"Canceled\", \"run_properties\": null}, {\"run_id\": \"AutoML_0a0716a7-ef04-4b1c-bd8f-66b76a8bcec5_42\", \"run_number\": 1645515517, \"metric\": null, \"status\": \"Canceled\", \"run_type\": \"azureml.scriptrun\", \"training_percent\": \"100\", \"start_time\": \"2022-02-22T07:42:45.197426Z\", \"end_time\": \"2022-02-22T07:42:45.488509Z\", \"created_time\": \"2022-02-22T07:38:37.650753Z\", \"created_time_dt\": \"2022-02-22T07:38:37.650753Z\", \"duration\": \"0:04:07\", \"iteration\": \"42\", \"goal\": null, \"run_name\": \"Canceled\", \"run_properties\": null}, {\"run_id\": \"AutoML_0a0716a7-ef04-4b1c-bd8f-66b76a8bcec5_43\", \"run_number\": 1645515567, \"metric\": null, \"status\": \"Canceled\", \"run_type\": \"azureml.scriptrun\", \"training_percent\": \"100\", \"start_time\": \"2022-02-22T07:42:45.183621Z\", \"end_time\": \"2022-02-22T07:42:45.540358Z\", \"created_time\": \"2022-02-22T07:39:27.652109Z\", \"created_time_dt\": \"2022-02-22T07:39:27.652109Z\", \"duration\": \"0:03:17\", \"iteration\": \"43\", \"goal\": null, \"run_name\": \"Canceled\", \"run_properties\": null}, {\"run_id\": \"AutoML_0a0716a7-ef04-4b1c-bd8f-66b76a8bcec5_44\", \"run_number\": 1645515617, \"metric\": null, \"status\": \"Canceled\", \"run_type\": \"azureml.scriptrun\", \"training_percent\": \"100\", \"start_time\": \"2022-02-22T07:42:45.211581Z\", \"end_time\": \"2022-02-22T07:42:45.50805Z\", \"created_time\": \"2022-02-22T07:40:17.191321Z\", \"created_time_dt\": \"2022-02-22T07:40:17.191321Z\", \"duration\": \"0:02:28\", \"iteration\": \"44\", \"goal\": null, \"run_name\": \"Canceled\", \"run_properties\": null}, {\"run_id\": \"AutoML_0a0716a7-ef04-4b1c-bd8f-66b76a8bcec5_45\", \"run_number\": 1645515624, \"metric\": null, \"status\": \"Canceled\", \"run_type\": \"azureml.scriptrun\", \"training_percent\": \"100\", \"start_time\": \"2022-02-22T07:42:45.129685Z\", \"end_time\": \"2022-02-22T07:42:45.639545Z\", \"created_time\": \"2022-02-22T07:40:24.285211Z\", \"created_time_dt\": \"2022-02-22T07:40:24.285211Z\", \"duration\": \"0:02:21\", \"iteration\": \"45\", \"goal\": null, \"run_name\": \"Canceled\", \"run_properties\": null}, {\"run_id\": \"AutoML_0a0716a7-ef04-4b1c-bd8f-66b76a8bcec5_46\", \"run_number\": 1645515641, \"metric\": null, \"status\": \"Canceled\", \"run_type\": \"azureml.scriptrun\", \"training_percent\": \"100\", \"start_time\": \"2022-02-22T07:42:44.827758Z\", \"end_time\": \"2022-02-22T07:42:45.184583Z\", \"created_time\": \"2022-02-22T07:40:41.079422Z\", \"created_time_dt\": \"2022-02-22T07:40:41.079422Z\", \"duration\": \"0:02:04\", \"iteration\": \"46\", \"goal\": null, \"run_name\": \"Canceled\", \"run_properties\": null}, {\"run_id\": \"AutoML_0a0716a7-ef04-4b1c-bd8f-66b76a8bcec5_47\", \"run_number\": 1645515687, \"metric\": null, \"status\": \"Canceled\", \"run_type\": \"azureml.scriptrun\", \"training_percent\": \"100\", \"start_time\": \"2022-02-22T07:42:45.121587Z\", \"end_time\": \"2022-02-22T07:42:45.424368Z\", \"created_time\": \"2022-02-22T07:41:27.574624Z\", \"created_time_dt\": \"2022-02-22T07:41:27.574624Z\", \"duration\": \"0:01:17\", \"iteration\": \"47\", \"goal\": null, \"run_name\": \"Canceled\", \"run_properties\": null}, {\"run_id\": \"AutoML_0a0716a7-ef04-4b1c-bd8f-66b76a8bcec5_48\", \"run_number\": 1645515738, \"metric\": null, \"status\": \"Canceled\", \"run_type\": \"azureml.scriptrun\", \"training_percent\": \"100\", \"start_time\": \"2022-02-22T07:42:45.310205Z\", \"end_time\": \"2022-02-22T07:42:45.575383Z\", \"created_time\": \"2022-02-22T07:42:18.60677Z\", \"created_time_dt\": \"2022-02-22T07:42:18.60677Z\", \"duration\": \"0:00:26\", \"iteration\": \"48\", \"goal\": null, \"run_name\": \"Canceled\", \"run_properties\": null}, {\"run_id\": \"AutoML_0a0716a7-ef04-4b1c-bd8f-66b76a8bcec5_49\", \"run_number\": 1645515744, \"metric\": null, \"status\": \"Canceled\", \"run_type\": \"azureml.scriptrun\", \"training_percent\": \"100\", \"start_time\": \"2022-02-22T07:42:45.164221Z\", \"end_time\": \"2022-02-22T07:42:45.445639Z\", \"created_time\": \"2022-02-22T07:42:24.863494Z\", \"created_time_dt\": \"2022-02-22T07:42:24.863494Z\", \"duration\": \"0:00:20\", \"iteration\": \"49\", \"goal\": null, \"run_name\": \"Canceled\", \"run_properties\": null}, {\"run_id\": \"AutoML_0a0716a7-ef04-4b1c-bd8f-66b76a8bcec5_50\", \"run_number\": 1645515768, \"metric\": null, \"status\": \"Completed\", \"run_type\": \"azureml.scriptrun\", \"training_percent\": \"100\", \"start_time\": \"2022-02-22T07:43:55.910211Z\", \"end_time\": \"2022-02-22T07:43:59.541444Z\", \"created_time\": \"2022-02-22T07:42:48.415897Z\", \"created_time_dt\": \"2022-02-22T07:42:48.415897Z\", \"duration\": \"0:01:11\", \"iteration\": \"50\", \"goal\": \"r2_score_max\", \"run_name\": \"VotingEnsemble\", \"run_properties\": \"\\n    estimators=[('1', Pipeline(\\n        memory=None,\\n        steps=[('maxabsscaler', MaxAbsScaler(\\n            copy=True\\n        \", \"primary_metric\": 0.2178814, \"best_metric\": 0.2178814}], \"children_metrics\": {\"categories\": [0], \"series\": {\"explained_variance\": [{\"categories\": [\"0\", \"1\", \"4\", \"8\", \"17\", \"20\", \"21\", \"22\", \"23\", \"24\", \"25\", \"26\", \"27\", \"28\", \"29\", \"30\", \"50\"], \"mode\": \"markers\", \"name\": \"explained_variance\", \"stepped\": false, \"type\": \"scatter\", \"data\": [0.2017967881258954, 0.20369064886273675, 0.2011562804740975, 0.176074974905714, 0.19241072141233723, 0.15766992819770326, 0.1800983310345733, 0.1878346327167903, 0.19256065887168988, 0.1931558006056115, 0.1513452027447985, 0.17983786317753575, 0.1999082538260959, 0.15514140882661226, 0.1952056863932496, 0.1689440628255574, 0.21849830585889152]}, {\"categories\": [\"0\", \"1\", \"4\", \"8\", \"17\", \"20\", \"21\", \"22\", \"23\", \"24\", \"25\", \"26\", \"27\", \"28\", \"29\", \"30\", \"50\"], \"mode\": \"lines\", \"name\": \"explained_variance_max\", \"stepped\": true, \"type\": \"scatter\", \"data\": [0.2017967881258954, 0.20369064886273675, 0.20369064886273675, 0.20369064886273675, 0.20369064886273675, 0.20369064886273675, 0.20369064886273675, 0.20369064886273675, 0.20369064886273675, 0.20369064886273675, 0.20369064886273675, 0.20369064886273675, 0.20369064886273675, 0.20369064886273675, 0.20369064886273675, 0.20369064886273675, 0.21849830585889152]}], \"root_mean_squared_error\": [{\"categories\": [\"0\", \"1\", \"4\", \"8\", \"17\", \"20\", \"21\", \"22\", \"23\", \"24\", \"25\", \"26\", \"27\", \"28\", \"29\", \"30\", \"50\"], \"mode\": \"markers\", \"name\": \"root_mean_squared_error\", \"stepped\": false, \"type\": \"scatter\", \"data\": [307.6872695258378, 307.33966438361097, 307.7964566131106, 312.65519503629514, 309.5327173179687, 316.1151316085491, 311.84293326096713, 310.36486061528103, 309.48606317855587, 309.3175322453345, 368.2538651441683, 313.4397047115295, 308.05516114532026, 316.58538369941994, 308.95793558298766, 365.3078969201505, 304.467643511866]}, {\"categories\": [\"0\", \"1\", \"4\", \"8\", \"17\", \"20\", \"21\", \"22\", \"23\", \"24\", \"25\", \"26\", \"27\", \"28\", \"29\", \"30\", \"50\"], \"mode\": \"lines\", \"name\": \"root_mean_squared_error_min\", \"stepped\": true, \"type\": \"scatter\", \"data\": [307.6872695258378, 307.33966438361097, 307.33966438361097, 307.33966438361097, 307.33966438361097, 307.33966438361097, 307.33966438361097, 307.33966438361097, 307.33966438361097, 307.33966438361097, 307.33966438361097, 307.33966438361097, 307.33966438361097, 307.33966438361097, 307.33966438361097, 307.33966438361097, 304.467643511866]}], \"r2_score\": [{\"categories\": [\"0\", \"1\", \"4\", \"8\", \"17\", \"20\", \"21\", \"22\", \"23\", \"24\", \"25\", \"26\", \"27\", \"28\", \"29\", \"30\", \"50\"], \"mode\": \"markers\", \"name\": \"r2_score\", \"stepped\": false, \"type\": \"scatter\", \"data\": [0.2011653940128612, 0.20303321999423501, 0.20061407355786826, 0.175339158040696, 0.1915779799571658, 0.15688670511319808, 0.17947003914430498, 0.18724947633566186, 0.1918743102532408, 0.19264192593575663, -0.14409773322627284, 0.170683250828302, 0.19927918933873534, 0.15446449650869237, 0.19459983549348359, -0.12586441334646303, 0.21788140173435122]}, {\"categories\": [\"0\", \"1\", \"4\", \"8\", \"17\", \"20\", \"21\", \"22\", \"23\", \"24\", \"25\", \"26\", \"27\", \"28\", \"29\", \"30\", \"50\"], \"mode\": \"lines\", \"name\": \"r2_score_max\", \"stepped\": true, \"type\": \"scatter\", \"data\": [0.2011653940128612, 0.20303321999423501, 0.20303321999423501, 0.20303321999423501, 0.20303321999423501, 0.20303321999423501, 0.20303321999423501, 0.20303321999423501, 0.20303321999423501, 0.20303321999423501, 0.20303321999423501, 0.20303321999423501, 0.20303321999423501, 0.20303321999423501, 0.20303321999423501, 0.20303321999423501, 0.21788140173435122]}], \"spearman_correlation\": [{\"categories\": [\"0\", \"1\", \"4\", \"8\", \"17\", \"20\", \"21\", \"22\", \"23\", \"24\", \"25\", \"26\", \"27\", \"28\", \"29\", \"30\", \"50\"], \"mode\": \"markers\", \"name\": \"spearman_correlation\", \"stepped\": false, \"type\": \"scatter\", \"data\": [0.5671540510532669, 0.5665655919213914, 0.5652341524336068, 0.5355812949615091, 0.5539888456920669, 0.5417769657802991, 0.535314352057151, 0.5479238694482216, 0.5536054790283689, 0.5535865278118011, 0.5535696249835043, 0.5416635541578565, 0.5628880105765539, 0.5196349192189813, 0.5522607199329195, 0.5612500269708469, 0.5874730184000994]}, {\"categories\": [\"0\", \"1\", \"4\", \"8\", \"17\", \"20\", \"21\", \"22\", \"23\", \"24\", \"25\", \"26\", \"27\", \"28\", \"29\", \"30\", \"50\"], \"mode\": \"lines\", \"name\": \"spearman_correlation_max\", \"stepped\": true, \"type\": \"scatter\", \"data\": [0.5671540510532669, 0.5671540510532669, 0.5671540510532669, 0.5671540510532669, 0.5671540510532669, 0.5671540510532669, 0.5671540510532669, 0.5671540510532669, 0.5671540510532669, 0.5671540510532669, 0.5671540510532669, 0.5671540510532669, 0.5671540510532669, 0.5671540510532669, 0.5671540510532669, 0.5671540510532669, 0.5874730184000994]}], \"normalized_median_absolute_error\": [{\"categories\": [\"0\", \"1\", \"4\", \"8\", \"17\", \"20\", \"21\", \"22\", \"23\", \"24\", \"25\", \"26\", \"27\", \"28\", \"29\", \"30\", \"50\"], \"mode\": \"markers\", \"name\": \"normalized_median_absolute_error\", \"stepped\": false, \"type\": \"scatter\", \"data\": [0.04643535845437066, 0.046848559470343935, 0.0467649354545706, 0.04936450095056383, 0.04760918667722164, 0.05197402850916144, 0.04774981659583888, 0.04765248078456383, 0.048427980882798066, 0.04682688678421471, 0.03908146358096591, 0.05210216394099598, 0.04733996546873597, 0.050361571315272156, 0.04700696783606203, 0.03963925459973462, 0.04551340962390242]}, {\"categories\": [\"0\", \"1\", \"4\", \"8\", \"17\", \"20\", \"21\", \"22\", \"23\", \"24\", \"25\", \"26\", \"27\", \"28\", \"29\", \"30\", \"50\"], \"mode\": \"lines\", \"name\": \"normalized_median_absolute_error_min\", \"stepped\": true, \"type\": \"scatter\", \"data\": [0.04643535845437066, 0.04643535845437066, 0.04643535845437066, 0.04643535845437066, 0.04643535845437066, 0.04643535845437066, 0.04643535845437066, 0.04643535845437066, 0.04643535845437066, 0.04643535845437066, 0.03908146358096591, 0.03908146358096591, 0.03908146358096591, 0.03908146358096591, 0.03908146358096591, 0.03908146358096591, 0.03908146358096591]}], \"normalized_root_mean_squared_log_error\": [{\"categories\": [\"0\", \"1\", \"4\", \"8\", \"17\", \"20\", \"21\", \"22\", \"23\", \"24\", \"25\", \"26\", \"27\", \"28\", \"29\", \"30\", \"50\"], \"mode\": \"markers\", \"name\": \"normalized_root_mean_squared_log_error\", \"stepped\": false, \"type\": \"scatter\", \"data\": [0.1021540159766471, 0.10255070122255339, 0.10256868672550026, 0.10550877421788016, 0.10474110418433977, 0.10872643025356934, 0.10452328986718645, 0.10401827571296868, 0.10413391720704337, 0.10336424769979291, 0.11962212739272096, 0.10809407769884469, 0.1029956204507733, 0.10704997616041909, 0.10342162551304408, 0.11958379460516746, 0.10065801096652714]}, {\"categories\": [\"0\", \"1\", \"4\", \"8\", \"17\", \"20\", \"21\", \"22\", \"23\", \"24\", \"25\", \"26\", \"27\", \"28\", \"29\", \"30\", \"50\"], \"mode\": \"lines\", \"name\": \"normalized_root_mean_squared_log_error_min\", \"stepped\": true, \"type\": \"scatter\", \"data\": [0.1021540159766471, 0.1021540159766471, 0.1021540159766471, 0.1021540159766471, 0.1021540159766471, 0.1021540159766471, 0.1021540159766471, 0.1021540159766471, 0.1021540159766471, 0.1021540159766471, 0.1021540159766471, 0.1021540159766471, 0.1021540159766471, 0.1021540159766471, 0.1021540159766471, 0.1021540159766471, 0.10065801096652714]}], \"mean_absolute_percentage_error\": [{\"categories\": [\"0\", \"1\", \"4\", \"8\", \"17\", \"20\", \"21\", \"22\", \"23\", \"24\", \"25\", \"26\", \"27\", \"28\", \"29\", \"30\", \"50\"], \"mode\": \"markers\", \"name\": \"mean_absolute_percentage_error\", \"stepped\": false, \"type\": \"scatter\", \"data\": [44.122562215086035, 44.69722708966537, 44.55627004300557, 46.70110404994594, 45.24796021374424, 49.10130480309017, 45.68755181106533, 45.49767988466796, 45.967219430266994, 45.058147535662656, 34.57655786739671, 49.65969557914475, 45.016554316330335, 47.55426027563382, 44.93125207601257, 34.24800830238034, 43.37208646537066]}, {\"categories\": [\"0\", \"1\", \"4\", \"8\", \"17\", \"20\", \"21\", \"22\", \"23\", \"24\", \"25\", \"26\", \"27\", \"28\", \"29\", \"30\", \"50\"], \"mode\": \"lines\", \"name\": \"mean_absolute_percentage_error_min\", \"stepped\": true, \"type\": \"scatter\", \"data\": [44.122562215086035, 44.122562215086035, 44.122562215086035, 44.122562215086035, 44.122562215086035, 44.122562215086035, 44.122562215086035, 44.122562215086035, 44.122562215086035, 44.122562215086035, 34.57655786739671, 34.57655786739671, 34.57655786739671, 34.57655786739671, 34.57655786739671, 34.24800830238034, 34.24800830238034]}], \"normalized_root_mean_squared_error\": [{\"categories\": [\"0\", \"1\", \"4\", \"8\", \"17\", \"20\", \"21\", \"22\", \"23\", \"24\", \"25\", \"26\", \"27\", \"28\", \"29\", \"30\", \"50\"], \"mode\": \"markers\", \"name\": \"normalized_root_mean_squared_error\", \"stepped\": false, \"type\": \"scatter\", \"data\": [0.09851864722630524, 0.09840734724163618, 0.09855360793218454, 0.10010933149987156, 0.09910954271667666, 0.10121717151909815, 0.09984925271460926, 0.0993759873832889, 0.09909460448829449, 0.09904064242615801, 0.11791151673506312, 0.10036052431671816, 0.09863644275529532, 0.1013677419340501, 0.09892550286651325, 0.11696824467623151, 0.0974877524481107]}, {\"categories\": [\"0\", \"1\", \"4\", \"8\", \"17\", \"20\", \"21\", \"22\", \"23\", \"24\", \"25\", \"26\", \"27\", \"28\", \"29\", \"30\", \"50\"], \"mode\": \"lines\", \"name\": \"normalized_root_mean_squared_error_min\", \"stepped\": true, \"type\": \"scatter\", \"data\": [0.09851864722630524, 0.09840734724163618, 0.09840734724163618, 0.09840734724163618, 0.09840734724163618, 0.09840734724163618, 0.09840734724163618, 0.09840734724163618, 0.09840734724163618, 0.09840734724163618, 0.09840734724163618, 0.09840734724163618, 0.09840734724163618, 0.09840734724163618, 0.09840734724163618, 0.09840734724163618, 0.0974877524481107]}], \"root_mean_squared_log_error\": [{\"categories\": [\"0\", \"1\", \"4\", \"8\", \"17\", \"20\", \"21\", \"22\", \"23\", \"24\", \"25\", \"26\", \"27\", \"28\", \"29\", \"30\", \"50\"], \"mode\": \"markers\", \"name\": \"root_mean_squared_log_error\", \"stepped\": false, \"type\": \"scatter\", \"data\": [0.47819139634883473, 0.4800483127885591, 0.4801325044151533, 0.493895297095671, 0.4903017701866775, 0.5089574110807757, 0.4892821633560648, 0.4869181503383433, 0.48745947773500764, 0.483856591124232, 0.5599610704019717, 0.5059973164801126, 0.4821310164881725, 0.5011097908374218, 0.48412518141288297, 0.559781631453528, 0.4711884731852691]}, {\"categories\": [\"0\", \"1\", \"4\", \"8\", \"17\", \"20\", \"21\", \"22\", \"23\", \"24\", \"25\", \"26\", \"27\", \"28\", \"29\", \"30\", \"50\"], \"mode\": \"lines\", \"name\": \"root_mean_squared_log_error_min\", \"stepped\": true, \"type\": \"scatter\", \"data\": [0.47819139634883473, 0.47819139634883473, 0.47819139634883473, 0.47819139634883473, 0.47819139634883473, 0.47819139634883473, 0.47819139634883473, 0.47819139634883473, 0.47819139634883473, 0.47819139634883473, 0.47819139634883473, 0.47819139634883473, 0.47819139634883473, 0.47819139634883473, 0.47819139634883473, 0.47819139634883473, 0.4711884731852691]}], \"normalized_mean_absolute_error\": [{\"categories\": [\"0\", \"1\", \"4\", \"8\", \"17\", \"20\", \"21\", \"22\", \"23\", \"24\", \"25\", \"26\", \"27\", \"28\", \"29\", \"30\", \"50\"], \"mode\": \"markers\", \"name\": \"normalized_mean_absolute_error\", \"stepped\": false, \"type\": \"scatter\", \"data\": [0.0639681085165042, 0.06393617716197839, 0.06394785209100759, 0.06575204703205331, 0.06467704013493067, 0.06726941193493058, 0.0652751306250579, 0.06483501079231925, 0.06488434638989571, 0.06445501273335683, 0.07117266459400454, 0.06796877195955851, 0.06415101528137389, 0.06699206386311528, 0.06441125217145681, 0.07060097645544053, 0.06281714311249487]}, {\"categories\": [\"0\", \"1\", \"4\", \"8\", \"17\", \"20\", \"21\", \"22\", \"23\", \"24\", \"25\", \"26\", \"27\", \"28\", \"29\", \"30\", \"50\"], \"mode\": \"lines\", \"name\": \"normalized_mean_absolute_error_min\", \"stepped\": true, \"type\": \"scatter\", \"data\": [0.0639681085165042, 0.06393617716197839, 0.06393617716197839, 0.06393617716197839, 0.06393617716197839, 0.06393617716197839, 0.06393617716197839, 0.06393617716197839, 0.06393617716197839, 0.06393617716197839, 0.06393617716197839, 0.06393617716197839, 0.06393617716197839, 0.06393617716197839, 0.06393617716197839, 0.06393617716197839, 0.06281714311249487]}], \"mean_absolute_error\": [{\"categories\": [\"0\", \"1\", \"4\", \"8\", \"17\", \"20\", \"21\", \"22\", \"23\", \"24\", \"25\", \"26\", \"27\", \"28\", \"29\", \"30\", \"50\"], \"mode\": \"markers\", \"name\": \"mean_absolute_error\", \"stepped\": false, \"type\": \"scatter\", \"data\": [199.78119067108315, 199.6814646642518, 199.71792707148165, 205.35267572802297, 201.9952815066294, 210.09161477139207, 203.8632002714283, 202.48864557125611, 202.64272742008478, 201.30185942996155, 222.2820090444801, 212.27581220458455, 200.3524336250316, 209.2254186417489, 201.16518918343445, 220.49654845070023, 196.1865675976984]}, {\"categories\": [\"0\", \"1\", \"4\", \"8\", \"17\", \"20\", \"21\", \"22\", \"23\", \"24\", \"25\", \"26\", \"27\", \"28\", \"29\", \"30\", \"50\"], \"mode\": \"lines\", \"name\": \"mean_absolute_error_min\", \"stepped\": true, \"type\": \"scatter\", \"data\": [199.78119067108315, 199.6814646642518, 199.6814646642518, 199.6814646642518, 199.6814646642518, 199.6814646642518, 199.6814646642518, 199.6814646642518, 199.6814646642518, 199.6814646642518, 199.6814646642518, 199.6814646642518, 199.6814646642518, 199.6814646642518, 199.6814646642518, 199.6814646642518, 196.1865675976984]}], \"median_absolute_error\": [{\"categories\": [\"0\", \"1\", \"4\", \"8\", \"17\", \"20\", \"21\", \"22\", \"23\", \"24\", \"25\", \"26\", \"27\", \"28\", \"29\", \"30\", \"50\"], \"mode\": \"markers\", \"name\": \"median_absolute_error\", \"stepped\": false, \"type\": \"scatter\", \"data\": [145.02400362298056, 146.31448716035675, 146.05331787104467, 154.17211803664588, 148.690030420443, 162.32203109232313, 149.12923697566077, 148.82524386530565, 151.24723720829792, 146.24680038423736, 122.0567796741949, 162.72221564885808, 147.84921560142584, 157.2861057605894, 146.80921824822775, 123.79883765370353, 142.1446307704718]}, {\"categories\": [\"0\", \"1\", \"4\", \"8\", \"17\", \"20\", \"21\", \"22\", \"23\", \"24\", \"25\", \"26\", \"27\", \"28\", \"29\", \"30\", \"50\"], \"mode\": \"lines\", \"name\": \"median_absolute_error_min\", \"stepped\": true, \"type\": \"scatter\", \"data\": [145.02400362298056, 145.02400362298056, 145.02400362298056, 145.02400362298056, 145.02400362298056, 145.02400362298056, 145.02400362298056, 145.02400362298056, 145.02400362298056, 145.02400362298056, 122.0567796741949, 122.0567796741949, 122.0567796741949, 122.0567796741949, 122.0567796741949, 122.0567796741949, 122.0567796741949]}]}, \"metricName\": null, \"primaryMetricName\": \"r2_score\", \"showLegend\": false}, \"run_metrics\": [{\"name\": \"experiment_status\", \"run_id\": \"AutoML_0a0716a7-ef04-4b1c-bd8f-66b76a8bcec5\", \"categories\": [0, 1, 2, 3, 4, 5, 6, 7, 8, 9, 10, 11, 12, 13], \"series\": [{\"data\": [\"DatasetEvaluation\", \"FeaturesGeneration\", \"DatasetFeaturization\", \"DatasetFeaturizationCompleted\", \"DatasetCrossValidationSplit\", \"ModelSelection\", \"BestRunExplainModel\", \"ModelExplanationDataSetSetup\", \"PickSurrogateModel\", \"EngineeredFeatureExplanations\", \"EngineeredFeatureExplanations\", \"RawFeaturesExplanations\", \"RawFeaturesExplanations\", \"BestRunExplainModel\"]}]}, {\"name\": \"experiment_status_description\", \"run_id\": \"AutoML_0a0716a7-ef04-4b1c-bd8f-66b76a8bcec5\", \"categories\": [0, 1, 2, 3, 4, 5, 6, 7, 8, 9, 10, 11, 12, 13], \"series\": [{\"data\": [\"Gathering dataset statistics.\", \"Generating features for the dataset.\", \"Beginning to fit featurizers and featurize the dataset.\", \"Completed fit featurizers and featurizing the dataset.\", \"Generating individually featurized CV splits.\", \"Beginning model selection.\", \"Best run model explanations started\", \"Model explanations data setup completed\", \"Choosing LightGBM as the surrogate model for explanations\", \"Computation of engineered features started\", \"Computation of engineered features completed\", \"Computation of raw features started\", \"Computation of raw features completed\", \"Best run model explanations completed\"]}]}, {\"name\": \"explained_variance\", \"run_id\": \"AutoML_0a0716a7-ef04-4b1c-bd8f-66b76a8bcec5\", \"categories\": [0], \"series\": [{\"data\": [0.21849830585889152]}]}, {\"name\": \"spearman_correlation\", \"run_id\": \"AutoML_0a0716a7-ef04-4b1c-bd8f-66b76a8bcec5\", \"categories\": [0], \"series\": [{\"data\": [0.5874730184000994]}]}, {\"name\": \"mean_absolute_percentage_error\", \"run_id\": \"AutoML_0a0716a7-ef04-4b1c-bd8f-66b76a8bcec5\", \"categories\": [0], \"series\": [{\"data\": [43.37208646537066]}]}, {\"name\": \"root_mean_squared_log_error\", \"run_id\": \"AutoML_0a0716a7-ef04-4b1c-bd8f-66b76a8bcec5\", \"categories\": [0], \"series\": [{\"data\": [0.4711884731852691]}]}, {\"name\": \"normalized_root_mean_squared_error\", \"run_id\": \"AutoML_0a0716a7-ef04-4b1c-bd8f-66b76a8bcec5\", \"categories\": [0], \"series\": [{\"data\": [0.0974877524481107]}]}, {\"name\": \"normalized_root_mean_squared_log_error\", \"run_id\": \"AutoML_0a0716a7-ef04-4b1c-bd8f-66b76a8bcec5\", \"categories\": [0], \"series\": [{\"data\": [0.10065801096652714]}]}, {\"name\": \"root_mean_squared_error\", \"run_id\": \"AutoML_0a0716a7-ef04-4b1c-bd8f-66b76a8bcec5\", \"categories\": [0], \"series\": [{\"data\": [304.467643511866]}]}, {\"name\": \"normalized_median_absolute_error\", \"run_id\": \"AutoML_0a0716a7-ef04-4b1c-bd8f-66b76a8bcec5\", \"categories\": [0], \"series\": [{\"data\": [0.04551340962390242]}]}, {\"name\": \"median_absolute_error\", \"run_id\": \"AutoML_0a0716a7-ef04-4b1c-bd8f-66b76a8bcec5\", \"categories\": [0], \"series\": [{\"data\": [142.1446307704718]}]}, {\"name\": \"normalized_mean_absolute_error\", \"run_id\": \"AutoML_0a0716a7-ef04-4b1c-bd8f-66b76a8bcec5\", \"categories\": [0], \"series\": [{\"data\": [0.06281714311249487]}]}, {\"name\": \"mean_absolute_error\", \"run_id\": \"AutoML_0a0716a7-ef04-4b1c-bd8f-66b76a8bcec5\", \"categories\": [0], \"series\": [{\"data\": [196.1865675976984]}]}, {\"name\": \"r2_score\", \"run_id\": \"AutoML_0a0716a7-ef04-4b1c-bd8f-66b76a8bcec5\", \"categories\": [0], \"series\": [{\"data\": [0.21788140173435122]}]}], \"run_logs\": \"\\nRun is completed.\", \"graph\": {}, \"widget_settings\": {\"childWidgetDisplay\": \"popup\", \"send_telemetry\": false, \"log_level\": \"INFO\", \"sdk_version\": \"1.38.0\"}, \"loading\": false}"
          },
          "metadata": {}
        }
      ],
      "execution_count": 9,
      "metadata": {
        "gather": {
          "logged": 1645515930564
        },
        "jupyter": {
          "outputs_hidden": false,
          "source_hidden": false
        },
        "nteract": {
          "transient": {
            "deleting": false
          }
        }
      }
    },
    {
      "cell_type": "markdown",
      "source": [
        "## Best Model\n",
        "\n",
        "TODO: In the cell below, get the best model from the automl experiments and display all the properties of the model.\n",
        "\n"
      ],
      "metadata": {}
    },
    {
      "cell_type": "code",
      "source": [
        "best_run_automl, fitted_model_automl=remote_run.get_output()\r\n",
        "model_name=best_run_automl.properties['model_name']\r\n",
        "print(best_run_automl.properties,model_name)"
      ],
      "outputs": [
        {
          "output_type": "stream",
          "name": "stdout",
          "text": "{'runTemplate': 'automl_child', 'pipeline_id': '__AutoML_Ensemble__', 'pipeline_spec': '{\"pipeline_id\":\"__AutoML_Ensemble__\",\"objects\":[{\"module\":\"azureml.train.automl.ensemble\",\"class_name\":\"Ensemble\",\"spec_class\":\"sklearn\",\"param_args\":[],\"param_kwargs\":{\"automl_settings\":\"{\\'task_type\\':\\'regression\\',\\'primary_metric\\':\\'r2_score\\',\\'verbosity\\':20,\\'ensemble_iterations\\':15,\\'is_timeseries\\':False,\\'name\\':\\'bonds_oas\\',\\'compute_target\\':\\'valeriy-cluster\\',\\'subscription_id\\':\\'3d1a56d2-7c81-4118-9790-f85d1acf0c77\\',\\'region\\':\\'westeurope\\',\\'spark_service\\':None}\",\"ensemble_run_id\":\"AutoML_0a0716a7-ef04-4b1c-bd8f-66b76a8bcec5_50\",\"experiment_name\":\"bonds_oas\",\"workspace_name\":\"quick-starts-ws-187275\",\"subscription_id\":\"3d1a56d2-7c81-4118-9790-f85d1acf0c77\",\"resource_group_name\":\"aml-quickstarts-187275\"}}]}', 'training_percent': '100', 'predicted_cost': None, 'iteration': '50', '_aml_system_scenario_identification': 'Remote.Child', '_azureml.ComputeTargetType': 'amlcompute', 'ContentSnapshotId': '8c11d82f-4567-49a2-b7a7-a513e45daaa4', 'ProcessInfoFile': 'azureml-logs/process_info.json', 'ProcessStatusFile': 'azureml-logs/process_status.json', 'run_preprocessor': '', 'run_algorithm': 'VotingEnsemble', 'ensembled_iterations': '[1, 18, 0, 4, 27, 29, 3, 2, 14, 12]', 'ensembled_algorithms': \"['XGBoostRegressor', 'XGBoostRegressor', 'LightGBM', 'LightGBM', 'LightGBM', 'LightGBM', 'ElasticNet', 'XGBoostRegressor', 'XGBoostRegressor', 'XGBoostRegressor']\", 'ensembled_run_ids': \"['AutoML_0a0716a7-ef04-4b1c-bd8f-66b76a8bcec5_1', 'AutoML_0a0716a7-ef04-4b1c-bd8f-66b76a8bcec5_18', 'AutoML_0a0716a7-ef04-4b1c-bd8f-66b76a8bcec5_0', 'AutoML_0a0716a7-ef04-4b1c-bd8f-66b76a8bcec5_4', 'AutoML_0a0716a7-ef04-4b1c-bd8f-66b76a8bcec5_27', 'AutoML_0a0716a7-ef04-4b1c-bd8f-66b76a8bcec5_29', 'AutoML_0a0716a7-ef04-4b1c-bd8f-66b76a8bcec5_3', 'AutoML_0a0716a7-ef04-4b1c-bd8f-66b76a8bcec5_2', 'AutoML_0a0716a7-ef04-4b1c-bd8f-66b76a8bcec5_14', 'AutoML_0a0716a7-ef04-4b1c-bd8f-66b76a8bcec5_12']\", 'ensemble_weights': '[0.07142857142857142, 0.07142857142857142, 0.07142857142857142, 0.07142857142857142, 0.07142857142857142, 0.07142857142857142, 0.2857142857142857, 0.07142857142857142, 0.07142857142857142, 0.14285714285714285]', 'best_individual_pipeline_score': '0.20303321999423501', 'best_individual_iteration': '1', 'model_output_path': 'outputs/model.pkl', 'conda_env_data_location': 'aml://artifact/ExperimentRun/dcid.AutoML_0a0716a7-ef04-4b1c-bd8f-66b76a8bcec5_50/outputs/conda_env_v_1_0_0.yml', 'model_data_location': 'aml://artifact/ExperimentRun/dcid.AutoML_0a0716a7-ef04-4b1c-bd8f-66b76a8bcec5_50/outputs/model.pkl', 'model_size_on_disk': '7743964', 'scoring_data_location': 'aml://artifact/ExperimentRun/dcid.AutoML_0a0716a7-ef04-4b1c-bd8f-66b76a8bcec5_50/outputs/scoring_file_v_1_0_0.py', 'scoring_data_location_v2': 'aml://artifact/ExperimentRun/dcid.AutoML_0a0716a7-ef04-4b1c-bd8f-66b76a8bcec5_50/outputs/scoring_file_v_2_0_0.py', 'model_exp_support': 'True', 'pipeline_graph_version': '1.0.0', 'model_name': 'AutoML0a0716a7e50', 'score': '0.21788140173435122', 'score_table': 'NaN', 'run_properties': \"\\n    estimators=[('1', Pipeline(\\n        memory=None,\\n        steps=[('maxabsscaler', MaxAbsScaler(\\n            copy=True\\n        \", 'pipeline_script': '{\"pipeline_id\":\"__AutoML_Ensemble__\",\"objects\":[{\"module\":\"azureml.train.automl.ensemble\",\"class_name\":\"Ensemble\",\"spec_class\":\"sklearn\",\"param_args\":[],\"param_kwargs\":{\"automl_settings\":\"{\\'task_type\\':\\'regression\\',\\'primary_metric\\':\\'r2_score\\',\\'verbosity\\':20,\\'ensemble_iterations\\':15,\\'is_timeseries\\':False,\\'name\\':\\'bonds_oas\\',\\'compute_target\\':\\'valeriy-cluster\\',\\'subscription_id\\':\\'3d1a56d2-7c81-4118-9790-f85d1acf0c77\\',\\'region\\':\\'westeurope\\',\\'spark_service\\':None}\",\"ensemble_run_id\":\"AutoML_0a0716a7-ef04-4b1c-bd8f-66b76a8bcec5_50\",\"experiment_name\":\"bonds_oas\",\"workspace_name\":\"quick-starts-ws-187275\",\"subscription_id\":\"3d1a56d2-7c81-4118-9790-f85d1acf0c77\",\"resource_group_name\":\"aml-quickstarts-187275\"}}]}', 'training_type': 'MeanCrossValidation', 'fit_time': '19', 'goal': 'r2_score_max', 'primary_metric': 'r2_score', 'errors': '{}', 'onnx_model_resource': '{}', 'dependencies_versions': '{\"azureml-train-restclients-hyperdrive\": \"1.38.0\", \"azureml-train-core\": \"1.38.0\", \"azureml-train-automl-runtime\": \"1.38.0\", \"azureml-train-automl-client\": \"1.38.0\", \"azureml-telemetry\": \"1.38.0\", \"azureml-responsibleai\": \"1.38.0\", \"azureml-pipeline-core\": \"1.38.0\", \"azureml-mlflow\": \"1.38.0\", \"azureml-interpret\": \"1.38.0\", \"azureml-inference-server-http\": \"0.4.2\", \"azureml-defaults\": \"1.38.0\", \"azureml-dataset-runtime\": \"1.38.0\", \"azureml-dataprep\": \"2.26.0\", \"azureml-dataprep-rslex\": \"2.2.0\", \"azureml-dataprep-native\": \"38.0.0\", \"azureml-core\": \"1.38.0\", \"azureml-automl-runtime\": \"1.38.0\", \"azureml-automl-core\": \"1.38.0\"}', 'num_cores': '4', 'num_logical_cores': '4', 'peak_memory_usage': '1047556', 'vm_configuration': 'x86_64', 'core_hours': '0.006318016944444444', 'feature_skus': 'automatedml_sdk_guardrails'} AutoML0a0716a7e50\n"
        }
      ],
      "execution_count": 17,
      "metadata": {
        "gather": {
          "logged": 1645516176095
        },
        "jupyter": {
          "outputs_hidden": false,
          "source_hidden": false
        },
        "nteract": {
          "transient": {
            "deleting": false
          }
        }
      }
    },
    {
      "cell_type": "code",
      "source": [
        "#TODO: Save the best model\n",
        "joblib.dump(fitted_model_automl, 'best_fitted_model_autolm.pkl')"
      ],
      "outputs": [
        {
          "output_type": "execute_result",
          "execution_count": 14,
          "data": {
            "text/plain": "['best_fitted_model_autolm.pkl']"
          },
          "metadata": {}
        }
      ],
      "execution_count": 14,
      "metadata": {
        "gather": {
          "logged": 1645516099563
        },
        "jupyter": {
          "outputs_hidden": false,
          "source_hidden": false
        },
        "nteract": {
          "transient": {
            "deleting": false
          }
        }
      }
    },
    {
      "cell_type": "code",
      "source": [
        "#Check the performance of the best model. This is required in order to compare it with the hyperdrive one\r\n",
        "df_bonds = ws.datasets['df_bonds']\r\n",
        "x=df_bonds.to_pandas_dataframe().drop('OAS',1)\r\n",
        "y=df_bonds.to_pandas_dataframe()['OAS']\r\n",
        "   \r\n",
        "x_train,x_test,y_train,y_test=train_test_split(x,y,test_size=0.30,random_state=10)\r\n",
        "y_pred_automl = fitted_model_automl.predict(x_test)\r\n",
        "rmse_automl = math.sqrt(mean_squared_error(y_true=y_test, y_pred=y_pred_automl))\r\n",
        "print('automl:',rmse_automl)"
      ],
      "outputs": [
        {
          "output_type": "stream",
          "name": "stdout",
          "text": "automl: 271.9051570541046\n"
        }
      ],
      "execution_count": 15,
      "metadata": {
        "jupyter": {
          "source_hidden": false,
          "outputs_hidden": false
        },
        "nteract": {
          "transient": {
            "deleting": false
          }
        },
        "gather": {
          "logged": 1645516113676
        }
      }
    },
    {
      "cell_type": "markdown",
      "source": [
        "## Model Deployment\n",
        "\n",
        "Remember you have to deploy only one of the two models you trained but you still need to register both the models. Perform the steps in the rest of this notebook only if you wish to deploy this model.\n",
        "\n",
        "TODO: In the cell below, register the model, create an inference config and deploy the model as a web service."
      ],
      "metadata": {}
    },
    {
      "cell_type": "code",
      "source": [
        "#Register model\r\n",
        "description = 'Bonds data'\r\n",
        "model = remote_run.register_model(model_name=model_name,\r\n",
        "                          description=description,\r\n",
        "                           tags=None)\r\n",
        "print(remote_run.model_id)"
      ],
      "outputs": [
        {
          "output_type": "stream",
          "name": "stdout",
          "text": "AutoML0a0716a7e50\n"
        }
      ],
      "execution_count": 18,
      "metadata": {
        "jupyter": {
          "source_hidden": false,
          "outputs_hidden": false
        },
        "nteract": {
          "transient": {
            "deleting": false
          }
        },
        "gather": {
          "logged": 1645516188486
        }
      }
    },
    {
      "cell_type": "code",
      "source": [
        "#Create an inference configuration:\r\n",
        "env = Environment(name=\"valeriy_env\")\r\n",
        "from azureml.core.conda_dependencies import CondaDependencies\r\n",
        "script_file_name='score_bonds.py'\r\n",
        "best_run_automl.download_file('outputs/scoring_file_v_1_0_0.py',script_file_name)\r\n",
        "inference_config = InferenceConfig(entry_script=script_file_name,environment=best_run_automl.get_environment())\r\n",
        "aciconfig=AciWebservice.deploy_configuration(cpu_cores=1,memory_gb=1,tags={'type':'bonds_df'}, description='n')\r\n",
        "aci_service=Model.deploy(ws,'valeriywebservice7',[model],inference_config,aciconfig)\r\n",
        "aci_service.wait_for_deployment(True)\r\n",
        "print(aci_service.state)"
      ],
      "outputs": [
        {
          "output_type": "stream",
          "name": "stdout",
          "text": "Tips: You can try get_logs(): https://aka.ms/debugimage#dockerlog or local deployment: https://aka.ms/debugimage#debug-locally to debug if deployment takes longer than 10 minutes.\nRunning\n2022-02-22 07:50:03+00:00 Creating Container Registry if not exists..\n2022-02-22 08:00:03+00:00 Registering the environment.\n2022-02-22 08:00:04+00:00 Generating deployment configuration..\n2022-02-22 08:00:09+00:00 Submitting deployment to compute..\n2022-02-22 08:00:21+00:00 Checking the status of deployment valeriywebservice7..\n2022-02-22 08:05:25+00:00 Checking the status of inference endpoint valeriywebservice7.\nSucceeded\nACI service creation operation finished, operation \"Succeeded\"\nHealthy\n"
        }
      ],
      "execution_count": 19,
      "metadata": {
        "jupyter": {
          "source_hidden": false,
          "outputs_hidden": false
        },
        "nteract": {
          "transient": {
            "deleting": false
          }
        },
        "gather": {
          "logged": 1645517133826
        }
      }
    },
    {
      "cell_type": "markdown",
      "source": [
        "TODO: In the cell below, send a request to the web service you deployed to test it."
      ],
      "metadata": {
        "collapsed": true,
        "gather": {
          "logged": 1598431657736
        },
        "jupyter": {
          "outputs_hidden": false,
          "source_hidden": false
        },
        "nteract": {
          "transient": {
            "deleting": false
          }
        }
      }
    },
    {
      "cell_type": "code",
      "source": [
        "import json\r\n",
        "data_to_predict=x_test.iloc[:2]\r\n",
        "test_sample=json.dumps({'data':data_to_predict.to_dict(orient='records')})\r\n",
        "response = aci_service.run(input_data=test_sample)\r\n",
        "print(response)"
      ],
      "outputs": [
        {
          "output_type": "stream",
          "name": "stdout",
          "text": "{\"result\": [337.63845133144844, 699.4955018449756]}\n"
        }
      ],
      "execution_count": 27,
      "metadata": {
        "jupyter": {
          "source_hidden": false,
          "outputs_hidden": false
        },
        "nteract": {
          "transient": {
            "deleting": false
          }
        },
        "gather": {
          "logged": 1645527665005
        }
      }
    },
    {
      "cell_type": "markdown",
      "source": [
        "TODO: In the cell below, print the logs of the web service and delete the service"
      ],
      "metadata": {
        "collapsed": true,
        "gather": {
          "logged": 1598432765711
        },
        "jupyter": {
          "outputs_hidden": false,
          "source_hidden": false
        },
        "nteract": {
          "transient": {
            "deleting": false
          }
        }
      }
    },
    {
      "cell_type": "code",
      "source": [
        "#Save the enviroment details\r\n",
        "env_used=best_run_automl.get_environment()\r\n",
        "env_used.save_to_directory('automl_env.txt', overwrite=True)"
      ],
      "outputs": [],
      "execution_count": 23,
      "metadata": {
        "jupyter": {
          "source_hidden": false,
          "outputs_hidden": false
        },
        "nteract": {
          "transient": {
            "deleting": false
          }
        },
        "gather": {
          "logged": 1645518463753
        }
      }
    },
    {
      "cell_type": "code",
      "source": [
        "print(aci_service.get_logs())\n",
        "aci_service.delete()"
      ],
      "outputs": [
        {
          "output_type": "stream",
          "name": "stdout",
          "text": "2022-02-22T08:05:18,346878700+00:00 - gunicorn/run \n2022-02-22T08:05:18,345033800+00:00 - rsyslog/run \nDynamic Python package installation is disabled.\nStarting HTTP server\n2022-02-22T08:05:18,356067500+00:00 - iot-server/run \n2022-02-22T08:05:18,387588400+00:00 - nginx/run \nrsyslogd: /azureml-envs/azureml_6797cf9b513e59b405ce80f3e9222a7d/lib/libuuid.so.1: no version information available (required by rsyslogd)\nEdgeHubConnectionString and IOTEDGE_IOTHUBHOSTNAME are not set. Exiting...\n2022-02-22T08:05:18,741841100+00:00 - iot-server/finish 1 0\n2022-02-22T08:05:18,749497700+00:00 - Exit code 1 is normal. Not restarting iot-server.\nStarting gunicorn 20.1.0\nListening at: http://127.0.0.1:31311 (70)\nUsing worker: sync\nworker timeout is set to 300\nBooting worker with pid: 98\nSPARK_HOME not set. Skipping PySpark Initialization.\nGenerating new fontManager, this may take some time...\nInitializing logger\n2022-02-22 08:05:22,413 | root | INFO | Starting up app insights client\nlogging socket was found. logging is available.\nlogging socket was found. logging is available.\n2022-02-22 08:05:22,414 | root | INFO | Starting up request id generator\n2022-02-22 08:05:22,414 | root | INFO | Starting up app insight hooks\n2022-02-22 08:05:22,414 | root | INFO | Invoking user's init function\n2022-02-22 08:05:31,378 | root | INFO | Users's init has completed successfully\n2022-02-22 08:05:31,386 | root | INFO | Skipping middleware: dbg_model_info as it's not enabled.\n2022-02-22 08:05:31,386 | root | INFO | Skipping middleware: dbg_resource_usage as it's not enabled.\nGenerating swagger file: /tmp/tmper6axdhz\n2022-02-22 08:05:31,440 | root | INFO | Scoring timeout is found from os.environ: 60000 ms\n2022-02-22 08:05:31,469 | root | INFO | 200\n127.0.0.1 - - [22/Feb/2022:08:05:31 +0000] \"GET /swagger.json HTTP/1.0\" 200 3544 \"-\" \"Go-http-client/1.1\"\n2022-02-22 08:05:33,413 | root | INFO | 200\n127.0.0.1 - - [22/Feb/2022:08:05:33 +0000] \"GET /swagger.json HTTP/1.0\" 200 3544 \"-\" \"Go-http-client/1.1\"\n2022-02-22 08:15:10,988 | root | INFO | Validation Request Content-Type\n2022-02-22 08:15:10,990 | root | INFO | Scoring Timer is set to 60.0 seconds\n2022-02-22 08:15:11,236 | root | INFO | 200\n127.0.0.1 - - [22/Feb/2022:08:15:11 +0000] \"POST /score HTTP/1.0\" 200 35 \"-\" \"python-requests/2.27.1\"\n2022-02-22 08:15:21,425 | root | INFO | Validation Request Content-Type\n2022-02-22 08:15:21,426 | root | INFO | Scoring Timer is set to 60.0 seconds\n2022-02-22 08:15:21,642 | root | INFO | 200\n127.0.0.1 - - [22/Feb/2022:08:15:21 +0000] \"POST /score HTTP/1.0\" 200 35 \"-\" \"python-requests/2.27.1\"\n127.0.0.1 - - [22/Feb/2022:08:22:40 +0000] \"GET /portal/redlion HTTP/1.0\" 404 232 \"-\" \"Mozilla/5.0 zgrab/0.x\"\n127.0.0.1 - - [22/Feb/2022:08:22:46 +0000] \"GET /config/getuser?index=0 HTTP/1.0\" 404 232 \"-\" \"Mozilla/5.0 (X11; Ubuntu; Linux x86_64; rv:76.0) Gecko/20100101 Firefox/76.0\"\n127.0.0.1 - - [22/Feb/2022:08:28:48 +0000] \"GET /phpmyadmin/scripts/setup.php HTTP/1.0\" 404 232 \"-\" \"Go-http-client/1.1\"\n127.0.0.1 - - [22/Feb/2022:08:35:21 +0000] \"POST / HTTP/1.0\" 405 178 \"-\" \"Mozilla/5.0 (X11; Linux x86_64) AppleWebKit/537.36 (KHTML, like Gecko) Chrome/81.0.4044.129 Safari/537.36\"\n127.0.0.1 - - [22/Feb/2022:08:35:21 +0000] \"GET /.env HTTP/1.0\" 404 232 \"-\" \"Mozilla/5.0 (X11; Linux x86_64) AppleWebKit/537.36 (KHTML, like Gecko) Chrome/81.0.4044.129 Safari/537.36\"\n127.0.0.1 - - [22/Feb/2022:08:42:34 +0000] \"GET /actuator/health HTTP/1.0\" 404 232 \"-\" \"Mozilla/5.0 zgrab/0.x\"\n127.0.0.1 - - [22/Feb/2022:09:18:09 +0000] \"GET /hudson HTTP/1.0\" 404 232 \"-\" \"Mozilla/5.0 zgrab/0.x\"\n2022-02-22 09:55:05,571 | root | INFO | 200\n127.0.0.1 - - [22/Feb/2022:09:55:05 +0000] \"GET /swagger.json HTTP/1.0\" 200 3544 \"-\" \"Go-http-client/1.1\"\n2022-02-22 10:08:18,833 | root | INFO | 200\n127.0.0.1 - - [22/Feb/2022:10:08:18 +0000] \"GET /swagger.json HTTP/1.0\" 200 3544 \"-\" \"Go-http-client/1.1\"\n2022-02-22 10:08:27,377 | root | INFO | 200\n127.0.0.1 - - [22/Feb/2022:10:08:27 +0000] \"GET /swagger.json HTTP/1.0\" 200 3544 \"-\" \"Go-http-client/1.1\"\n2022-02-22 10:19:51,876 | root | INFO | 200\n127.0.0.1 - - [22/Feb/2022:10:19:51 +0000] \"GET /swagger.json HTTP/1.0\" 200 3544 \"-\" \"Go-http-client/1.1\"\n2022-02-22 10:19:56,492 | root | INFO | 200\n127.0.0.1 - - [22/Feb/2022:10:19:56 +0000] \"GET /swagger.json HTTP/1.0\" 200 3544 \"-\" \"Go-http-client/1.1\"\n2022-02-22 10:20:39,280 | root | INFO | Validation Request Content-Type\n2022-02-22 10:20:39,281 | root | INFO | Scoring Timer is set to 60.0 seconds\n2022-02-22 10:20:39,489 | root | INFO | 200\n127.0.0.1 - - [22/Feb/2022:10:20:39 +0000] \"POST /score HTTP/1.0\" 200 35 \"-\" \"python-requests/2.27.1\"\n127.0.0.1 - - [22/Feb/2022:10:24:28 +0000] \"GET /onebets-ecp/api/v1/floatingads?lang=zh-TW HTTP/1.0\" 404 232 \"-\" \"Mozilla/5.0 (iPad; U; CPU OS 4_2_1 like Mac OS X; en-us) AppleWebKit/533.17.9 (KHTML, like Gecko) Version/5.0.2 Mobile/8C148 Safari/6533.18.5\"\n2022-02-22 11:00:01,149 | root | INFO | 200\n127.0.0.1 - - [22/Feb/2022:11:00:01 +0000] \"GET /swagger.json HTTP/1.0\" 200 3544 \"-\" \"Go-http-client/1.1\"\n2022-02-22 11:00:46,292 | root | INFO | Validation Request Content-Type\n2022-02-22 11:00:46,293 | root | INFO | Scoring Timer is set to 60.0 seconds\n2022-02-22 11:00:46,510 | root | INFO | 200\n127.0.0.1 - - [22/Feb/2022:11:00:46 +0000] \"POST /score HTTP/1.0\" 200 35 \"-\" \"python-requests/2.27.1\"\n2022-02-22 11:00:59,244 | root | INFO | Validation Request Content-Type\n2022-02-22 11:00:59,245 | root | INFO | Scoring Timer is set to 60.0 seconds\n2022-02-22 11:00:59,474 | root | INFO | 200\n127.0.0.1 - - [22/Feb/2022:11:00:59 +0000] \"POST /score HTTP/1.0\" 200 35 \"-\" \"python-requests/2.27.1\"\n2022-02-22 11:01:04,611 | root | INFO | Validation Request Content-Type\n2022-02-22 11:01:04,611 | root | INFO | Scoring Timer is set to 60.0 seconds\n2022-02-22 11:01:04,836 | root | INFO | 200\n127.0.0.1 - - [22/Feb/2022:11:01:04 +0000] \"POST /score HTTP/1.0\" 200 55 \"-\" \"python-requests/2.27.1\"\n127.0.0.1 - - [22/Feb/2022:11:13:30 +0000] \"GET /phpmyadmin/scripts/setup.php HTTP/1.0\" 404 232 \"-\" \"Go-http-client/1.1\"\n\n"
        }
      ],
      "execution_count": 28,
      "metadata": {
        "jupyter": {
          "outputs_hidden": false,
          "source_hidden": false
        },
        "nteract": {
          "transient": {
            "deleting": false
          }
        },
        "gather": {
          "logged": 1645530346122
        }
      }
    },
    {
      "cell_type": "markdown",
      "source": [
        "**Submission Checklist**\n",
        "- I have registered the model.\n",
        "- I have deployed the model with the best accuracy as a webservice.\n",
        "- I have tested the webservice by sending a request to the model endpoint.\n",
        "- I have deleted the webservice and shutdown all the computes that I have used.\n",
        "- I have taken a screenshot showing the model endpoint as active.\n",
        "- The project includes a file containing the environment details.\n"
      ],
      "metadata": {}
    },
    {
      "cell_type": "markdown",
      "source": [],
      "metadata": {}
    }
  ],
  "metadata": {
    "kernel_info": {
      "name": "python3-azureml"
    },
    "kernelspec": {
      "name": "python3-azureml",
      "language": "python",
      "display_name": "Python 3.6 - AzureML"
    },
    "language_info": {
      "name": "python",
      "version": "3.6.9",
      "mimetype": "text/x-python",
      "codemirror_mode": {
        "name": "ipython",
        "version": 3
      },
      "pygments_lexer": "ipython3",
      "nbconvert_exporter": "python",
      "file_extension": ".py"
    },
    "nteract": {
      "version": "nteract-front-end@1.0.0"
    },
    "microsoft": {
      "host": {
        "AzureML": {
          "notebookHasBeenCompleted": true
        }
      }
    }
  },
  "nbformat": 4,
  "nbformat_minor": 2
}